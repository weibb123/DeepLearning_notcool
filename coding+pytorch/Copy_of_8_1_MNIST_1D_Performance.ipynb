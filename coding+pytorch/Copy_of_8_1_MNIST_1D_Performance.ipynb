{
  "cells": [
    {
      "cell_type": "markdown",
      "metadata": {
        "id": "2esvdDzH2Vnp"
      },
      "source": [
        "While editing this notebook, don't change cell types as that confuses the autograder.\n",
        "\n",
        "Before you turn this notebook in, make sure everything runs as expected. First, **restart the kernel** (in the menubar, select Kernel $\\rightarrow$ Restart) and then **run all cells** (in the menubar, select Cell $\\rightarrow$ Run All).\n",
        "\n",
        "Make sure you fill in any place that says `YOUR CODE HERE` or \"YOUR ANSWER HERE\", as well as your name below:"
      ]
    },
    {
      "cell_type": "code",
      "execution_count": 1,
      "metadata": {
        "id": "nGhNVZhY2Vnu"
      },
      "outputs": [],
      "source": [
        "NAME = \"Wei\""
      ]
    },
    {
      "cell_type": "markdown",
      "metadata": {
        "id": "GH2Q-OHc2Vnv"
      },
      "source": [
        "_Understanding Deep Learning_"
      ]
    },
    {
      "cell_type": "markdown",
      "metadata": {
        "id": "GZwfMZx62Vnw"
      },
      "source": [
        "---"
      ]
    },
    {
      "cell_type": "markdown",
      "metadata": {
        "id": "view-in-github"
      },
      "source": [
        "<a href=\"https://colab.research.google.com/github/DL4DS/sp2024_notebooks/blob/main/release/nbs08/8_1_MNIST_1D_Performance.ipynb\" target=\"_parent\"><img src=\"https://colab.research.google.com/assets/colab-badge.svg\" alt=\"Open In Colab\"/></a>"
      ]
    },
    {
      "cell_type": "markdown",
      "metadata": {
        "deletable": false,
        "editable": false,
        "id": "L6chybAVFJW2",
        "nbgrader": {
          "cell_type": "markdown",
          "checksum": "c977ea3a5ad31e465e3f4724ee56827f",
          "grade": false,
          "grade_id": "cell-c6db64138a35360e",
          "locked": true,
          "schema_version": 3,
          "solution": false,
          "task": false
        }
      },
      "source": [
        "# Notebook 8.1: MNIST_1D_Performance\n",
        "\n",
        "This notebook runs a simple neural network on the MNIST1D dataset as in figure 8.2a.\n",
        "It uses code from https://github.com/greydanus/mnist1d to generate the data.\n",
        "\n",
        "Adapted from notebooks at https://github.com/udlbook/udlbook."
      ]
    },
    {
      "cell_type": "code",
      "execution_count": 4,
      "metadata": {
        "deletable": false,
        "editable": false,
        "id": "ifVjS4cTOqKz",
        "nbgrader": {
          "cell_type": "code",
          "checksum": "7e2245a636bf0bcb277f3b92afee779d",
          "grade": false,
          "grade_id": "cell-b46b7d9b220f41a3",
          "locked": true,
          "schema_version": 3,
          "solution": false,
          "task": false
        },
        "colab": {
          "base_uri": "https://localhost:8080/"
        },
        "outputId": "eb4d7d69-9a74-4029-d4aa-b5586964473d"
      },
      "outputs": [
        {
          "output_type": "stream",
          "name": "stdout",
          "text": [
            "Cloning into 'mnist1d'...\n",
            "remote: Enumerating objects: 204, done.\u001b[K\n",
            "remote: Counting objects: 100% (76/76), done.\u001b[K\n",
            "remote: Compressing objects: 100% (35/35), done.\u001b[K\n",
            "remote: Total 204 (delta 47), reused 60 (delta 41), pack-reused 128\u001b[K\n",
            "Receiving objects: 100% (204/204), 8.42 MiB | 15.19 MiB/s, done.\n",
            "Resolving deltas: 100% (73/73), done.\n"
          ]
        }
      ],
      "source": [
        "# Clone the mnist1d repository if it doesn't exist\n",
        "import os\n",
        "\n",
        "if not os.path.exists('mnist1d'):\n",
        "    !git clone https://github.com/greydanus/mnist1d"
      ]
    },
    {
      "cell_type": "code",
      "source": [
        "!pip install torchinfo"
      ],
      "metadata": {
        "colab": {
          "base_uri": "https://localhost:8080/"
        },
        "id": "5PGR6FTK2v4e",
        "outputId": "fed2be4a-602c-4bf4-c43e-f891cf5c5e4f"
      },
      "execution_count": 5,
      "outputs": [
        {
          "output_type": "stream",
          "name": "stdout",
          "text": [
            "Collecting torchinfo\n",
            "  Downloading torchinfo-1.8.0-py3-none-any.whl (23 kB)\n",
            "Installing collected packages: torchinfo\n",
            "Successfully installed torchinfo-1.8.0\n"
          ]
        }
      ]
    },
    {
      "cell_type": "code",
      "execution_count": 6,
      "metadata": {
        "deletable": false,
        "editable": false,
        "id": "qyE7G1StPIqO",
        "nbgrader": {
          "cell_type": "code",
          "checksum": "374c08d9c5dca37a8e4d7ffd9a4a8ab1",
          "grade": false,
          "grade_id": "cell-2cb6e8f6902507e8",
          "locked": true,
          "schema_version": 3,
          "solution": false,
          "task": false
        }
      },
      "outputs": [],
      "source": [
        "import torch, torch.nn as nn\n",
        "from torch.utils.data import TensorDataset, DataLoader\n",
        "from torch.optim.lr_scheduler import StepLR\n",
        "import numpy as np\n",
        "import matplotlib.pyplot as plt\n",
        "import mnist1d\n",
        "from torchinfo import summary"
      ]
    },
    {
      "cell_type": "markdown",
      "metadata": {
        "deletable": false,
        "editable": false,
        "id": "F7LNq72SP6jO",
        "nbgrader": {
          "cell_type": "markdown",
          "checksum": "b5c314f2077f9bffdc3a85a90eeb22de",
          "grade": false,
          "grade_id": "cell-704a4ceef22ef029",
          "locked": true,
          "schema_version": 3,
          "solution": false,
          "task": false
        }
      },
      "source": [
        "Let's generate a training and test dataset using the MNIST1D code.  The dataset gets saved as a .pkl file so it doesn't have to be regenerated each time."
      ]
    },
    {
      "cell_type": "code",
      "execution_count": 7,
      "metadata": {
        "deletable": false,
        "editable": false,
        "id": "YLxf7dJfPaqw",
        "nbgrader": {
          "cell_type": "code",
          "checksum": "19cc36d8d8d27e3713c544d0036830f6",
          "grade": false,
          "grade_id": "cell-4cb95d0b5fbb733e",
          "locked": true,
          "schema_version": 3,
          "solution": false,
          "task": false
        },
        "colab": {
          "base_uri": "https://localhost:8080/"
        },
        "outputId": "1cbfcfdb-3530-49a3-dad7-92427db81c42"
      },
      "outputs": [
        {
          "output_type": "stream",
          "name": "stdout",
          "text": [
            "Did or could not load data from ./mnist1d_data.pkl. Rebuilding dataset...\n",
            "Examples in training set: 4000\n",
            "Examples in test set: 1000\n",
            "Length of each example: 40\n"
          ]
        }
      ],
      "source": [
        "args = mnist1d.data.get_dataset_args()\n",
        "data = mnist1d.data.get_dataset(args, path='./mnist1d_data.pkl', download=False, regenerate=False)\n",
        "\n",
        "# The training and test input and outputs are in\n",
        "# data['x'], data['y'], data['x_test'], and data['y_test']\n",
        "print(\"Examples in training set: {}\".format(len(data['y'])))\n",
        "print(\"Examples in test set: {}\".format(len(data['y_test'])))\n",
        "print(\"Length of each example: {}\".format(data['x'].shape[-1]))"
      ]
    },
    {
      "cell_type": "code",
      "execution_count": 21,
      "metadata": {
        "deletable": false,
        "id": "FxaB5vc0uevl",
        "nbgrader": {
          "cell_type": "code",
          "checksum": "6841a41895a1e7d5a9d2ba882939d9e4",
          "grade": false,
          "grade_id": "cell-7c3ea9378860d4b0",
          "locked": false,
          "schema_version": 3,
          "solution": true,
          "task": false
        },
        "colab": {
          "base_uri": "https://localhost:8080/"
        },
        "outputId": "9c9ec7f6-1e9a-48da-f7b0-6a2f9c3b2c42"
      },
      "outputs": [
        {
          "output_type": "stream",
          "name": "stdout",
          "text": [
            "Initializing layer\n",
            "Initializing layer\n",
            "Initializing layer\n",
            "Initializing layer\n",
            "Initializing layer\n",
            "Initializing layer\n"
          ]
        },
        {
          "output_type": "execute_result",
          "data": {
            "text/plain": [
              "Sequential(\n",
              "  (0): Linear(in_features=40, out_features=100, bias=True)\n",
              "  (1): ReLU()\n",
              "  (2): Linear(in_features=100, out_features=100, bias=True)\n",
              "  (3): ReLU()\n",
              "  (4): Linear(in_features=100, out_features=10, bias=True)\n",
              ")"
            ]
          },
          "metadata": {},
          "execution_count": 21
        }
      ],
      "source": [
        "D_i = 40    # Input dimensions\n",
        "D_k = 100   # Hidden dimensions\n",
        "D_o = 10    # Output dimensions\n",
        "\n",
        "# TO DO:\n",
        "# Define a model with two hidden layers of size 100\n",
        "# And ReLU activations between them\n",
        "# Replace this line (see Figure 7.8 of book for help):\n",
        "\n",
        "# YOUR CODE HERE\n",
        "model = torch.nn.Sequential(torch.nn.Linear(D_i, D_k),\n",
        "                            torch.nn.ReLU(),\n",
        "                            torch.nn.Linear(D_k, D_k),\n",
        "                            torch.nn.ReLU(),\n",
        "                            torch.nn.Linear(D_k, D_o))\n",
        "\n",
        "def weights_init(layer_in):\n",
        "  # TO DO:\n",
        "  # Initialize the parameters with He initialization\n",
        "  # Replace this line (see figure 7.8 of book for help)\n",
        "  print(\"Initializing layer\")\n",
        "\n",
        "  # YOUR CODE HERE\n",
        "  if isinstance(layer_in, nn.Linear):\n",
        "        nn.init.kaiming_normal_(layer_in.weight)\n",
        "        layer_in.bias.data.fill_(0.0)\n",
        "\n",
        "# Call the function you just defined\n",
        "model.apply(weights_init)\n"
      ]
    },
    {
      "cell_type": "code",
      "execution_count": 22,
      "metadata": {
        "deletable": false,
        "editable": false,
        "nbgrader": {
          "cell_type": "code",
          "checksum": "2484fcf3416103ba6c930f55e592f86a",
          "grade": false,
          "grade_id": "cell-ff47d79f21506df4",
          "locked": true,
          "schema_version": 3,
          "solution": false,
          "task": false
        },
        "id": "pqZo0roP2Vnz",
        "colab": {
          "base_uri": "https://localhost:8080/"
        },
        "outputId": "61677061-f184-4d31-f881-c02f6806fb5a"
      },
      "outputs": [
        {
          "output_type": "stream",
          "name": "stdout",
          "text": [
            "==========================================================================================\n",
            "Layer (type:depth-idx)                   Output Shape              Param #\n",
            "==========================================================================================\n",
            "Sequential                               [1, 10]                   --\n",
            "├─Linear: 1-1                            [1, 100]                  4,100\n",
            "├─ReLU: 1-2                              [1, 100]                  --\n",
            "├─Linear: 1-3                            [1, 100]                  10,100\n",
            "├─ReLU: 1-4                              [1, 100]                  --\n",
            "├─Linear: 1-5                            [1, 10]                   1,010\n",
            "==========================================================================================\n",
            "Total params: 15,210\n",
            "Trainable params: 15,210\n",
            "Non-trainable params: 0\n",
            "Total mult-adds (M): 0.02\n",
            "==========================================================================================\n",
            "Input size (MB): 0.00\n",
            "Forward/backward pass size (MB): 0.00\n",
            "Params size (MB): 0.06\n",
            "Estimated Total Size (MB): 0.06\n",
            "==========================================================================================\n"
          ]
        }
      ],
      "source": [
        "print(summary(model, input_size=(1, D_i), device='cpu'))"
      ]
    },
    {
      "cell_type": "code",
      "execution_count": 23,
      "metadata": {
        "deletable": false,
        "editable": false,
        "id": "_rX6N3VyyQTY",
        "nbgrader": {
          "cell_type": "code",
          "checksum": "32192e9a117a019189a65ab56ad9a33a",
          "grade": false,
          "grade_id": "cell-519ba15e1f56c6a2",
          "locked": true,
          "schema_version": 3,
          "solution": false,
          "task": false
        },
        "colab": {
          "base_uri": "https://localhost:8080/"
        },
        "outputId": "b43bb075-0483-45ea-c38e-07d3655c0e9a"
      },
      "outputs": [
        {
          "output_type": "stream",
          "name": "stdout",
          "text": [
            "Initializing layer\n",
            "Initializing layer\n",
            "Initializing layer\n",
            "Initializing layer\n",
            "Initializing layer\n",
            "Initializing layer\n",
            "Epoch     0, train loss 1.766663, train error 69.05,  test loss 1.836325, test error 73.10\n",
            "Epoch     1, train loss 1.602121, train error 62.38,  test loss 1.707685, test error 69.40\n",
            "Epoch     2, train loss 1.521846, train error 59.05,  test loss 1.648275, test error 66.00\n",
            "Epoch     3, train loss 1.446999, train error 55.67,  test loss 1.599703, test error 64.90\n",
            "Epoch     4, train loss 1.373881, train error 50.78,  test loss 1.534676, test error 61.50\n",
            "Epoch     5, train loss 1.313119, train error 47.45,  test loss 1.489364, test error 59.50\n",
            "Epoch     6, train loss 1.269481, train error 48.10,  test loss 1.454764, test error 58.00\n",
            "Epoch     7, train loss 1.209050, train error 43.58,  test loss 1.423636, test error 56.70\n",
            "Epoch     8, train loss 1.172551, train error 43.28,  test loss 1.396396, test error 55.10\n",
            "Epoch     9, train loss 1.114197, train error 39.45,  test loss 1.364707, test error 53.70\n",
            "Epoch    10, train loss 1.091658, train error 39.60,  test loss 1.354661, test error 52.00\n",
            "Epoch    11, train loss 1.045511, train error 36.85,  test loss 1.335826, test error 51.20\n",
            "Epoch    12, train loss 0.999258, train error 34.80,  test loss 1.291966, test error 50.10\n",
            "Epoch    13, train loss 0.976078, train error 35.05,  test loss 1.290187, test error 49.40\n",
            "Epoch    14, train loss 0.941985, train error 32.80,  test loss 1.263623, test error 51.30\n",
            "Epoch    15, train loss 0.931983, train error 33.70,  test loss 1.281067, test error 50.30\n",
            "Epoch    16, train loss 0.892808, train error 31.18,  test loss 1.263580, test error 48.30\n",
            "Epoch    17, train loss 0.847349, train error 29.15,  test loss 1.214290, test error 47.70\n",
            "Epoch    18, train loss 0.850591, train error 30.60,  test loss 1.254593, test error 48.40\n",
            "Epoch    19, train loss 0.816701, train error 28.43,  test loss 1.204918, test error 46.30\n",
            "Epoch    20, train loss 0.773188, train error 25.47,  test loss 1.208716, test error 47.40\n",
            "Epoch    21, train loss 0.756425, train error 25.20,  test loss 1.190200, test error 45.40\n",
            "Epoch    22, train loss 0.743699, train error 25.95,  test loss 1.190525, test error 45.10\n",
            "Epoch    23, train loss 0.711533, train error 23.38,  test loss 1.164646, test error 44.90\n",
            "Epoch    24, train loss 0.701482, train error 23.32,  test loss 1.188402, test error 45.20\n",
            "Epoch    25, train loss 0.684839, train error 22.15,  test loss 1.197798, test error 44.20\n",
            "Epoch    26, train loss 0.651281, train error 21.18,  test loss 1.142889, test error 42.80\n",
            "Epoch    27, train loss 0.632231, train error 20.45,  test loss 1.169250, test error 43.80\n",
            "Epoch    28, train loss 0.619299, train error 19.40,  test loss 1.184615, test error 44.50\n",
            "Epoch    29, train loss 0.590386, train error 18.20,  test loss 1.158363, test error 43.00\n",
            "Epoch    30, train loss 0.569743, train error 17.68,  test loss 1.124077, test error 42.10\n",
            "Epoch    31, train loss 0.552555, train error 16.75,  test loss 1.143080, test error 42.20\n",
            "Epoch    32, train loss 0.530247, train error 15.80,  test loss 1.134578, test error 41.00\n",
            "Epoch    33, train loss 0.517045, train error 14.97,  test loss 1.115155, test error 41.20\n",
            "Epoch    34, train loss 0.494469, train error 14.05,  test loss 1.144392, test error 41.70\n",
            "Epoch    35, train loss 0.487710, train error 14.43,  test loss 1.143139, test error 41.20\n",
            "Epoch    36, train loss 0.475048, train error 14.00,  test loss 1.132512, test error 40.40\n",
            "Epoch    37, train loss 0.452616, train error 12.28,  test loss 1.134021, test error 38.80\n",
            "Epoch    38, train loss 0.483956, train error 16.30,  test loss 1.178713, test error 42.20\n",
            "Epoch    39, train loss 0.445875, train error 13.50,  test loss 1.197249, test error 42.60\n",
            "Epoch    40, train loss 0.394930, train error 10.45,  test loss 1.118733, test error 39.60\n",
            "Epoch    41, train loss 0.399430, train error 10.50,  test loss 1.146375, test error 39.30\n",
            "Epoch    42, train loss 0.380951, train error 10.38,  test loss 1.134406, test error 37.90\n",
            "Epoch    43, train loss 0.413670, train error 12.62,  test loss 1.161226, test error 39.50\n",
            "Epoch    44, train loss 0.365510, train error 10.05,  test loss 1.160990, test error 39.90\n",
            "Epoch    45, train loss 0.338653, train error 8.28,  test loss 1.149487, test error 38.70\n",
            "Epoch    46, train loss 0.319435, train error 7.38,  test loss 1.149842, test error 39.80\n",
            "Epoch    47, train loss 0.337536, train error 8.80,  test loss 1.198194, test error 39.90\n",
            "Epoch    48, train loss 0.317295, train error 8.07,  test loss 1.205657, test error 40.30\n",
            "Epoch    49, train loss 0.301549, train error 7.15,  test loss 1.222722, test error 40.20\n",
            "Epoch    50, train loss 0.305531, train error 8.50,  test loss 1.242112, test error 40.60\n",
            "Epoch    51, train loss 0.300187, train error 8.12,  test loss 1.261364, test error 39.10\n",
            "Epoch    52, train loss 0.260042, train error 5.93,  test loss 1.207385, test error 38.50\n",
            "Epoch    53, train loss 0.246659, train error 5.35,  test loss 1.203146, test error 38.90\n",
            "Epoch    54, train loss 0.235935, train error 4.95,  test loss 1.218239, test error 37.90\n",
            "Epoch    55, train loss 0.251831, train error 6.03,  test loss 1.248554, test error 39.10\n",
            "Epoch    56, train loss 0.218915, train error 4.18,  test loss 1.244809, test error 40.20\n",
            "Epoch    57, train loss 0.220850, train error 4.80,  test loss 1.258740, test error 38.80\n",
            "Epoch    58, train loss 0.219965, train error 5.00,  test loss 1.304479, test error 38.60\n",
            "Epoch    59, train loss 0.199169, train error 3.88,  test loss 1.259744, test error 38.60\n",
            "Epoch    60, train loss 0.189916, train error 3.18,  test loss 1.309949, test error 38.40\n",
            "Epoch    61, train loss 0.185615, train error 3.10,  test loss 1.299306, test error 38.50\n",
            "Epoch    62, train loss 0.177775, train error 3.18,  test loss 1.296464, test error 38.60\n",
            "Epoch    63, train loss 0.181359, train error 3.60,  test loss 1.328422, test error 38.00\n",
            "Epoch    64, train loss 0.171473, train error 3.53,  test loss 1.357235, test error 38.50\n",
            "Epoch    65, train loss 0.142679, train error 1.43,  test loss 1.302184, test error 37.60\n",
            "Epoch    66, train loss 0.146357, train error 2.00,  test loss 1.349659, test error 38.70\n",
            "Epoch    67, train loss 0.146610, train error 1.95,  test loss 1.347593, test error 37.90\n",
            "Epoch    68, train loss 0.134574, train error 1.55,  test loss 1.351842, test error 39.20\n",
            "Epoch    69, train loss 0.135314, train error 1.70,  test loss 1.392076, test error 38.60\n",
            "Epoch    70, train loss 0.126498, train error 1.40,  test loss 1.412787, test error 38.30\n",
            "Epoch    71, train loss 0.114794, train error 1.00,  test loss 1.388518, test error 38.50\n",
            "Epoch    72, train loss 0.115761, train error 1.35,  test loss 1.399734, test error 37.80\n",
            "Epoch    73, train loss 0.119704, train error 1.55,  test loss 1.434667, test error 37.70\n",
            "Epoch    74, train loss 0.100487, train error 0.80,  test loss 1.420851, test error 38.50\n",
            "Epoch    75, train loss 0.097572, train error 0.60,  test loss 1.399958, test error 37.80\n",
            "Epoch    76, train loss 0.087675, train error 0.28,  test loss 1.410948, test error 38.50\n",
            "Epoch    77, train loss 0.086520, train error 0.32,  test loss 1.469905, test error 39.50\n",
            "Epoch    78, train loss 0.082398, train error 0.12,  test loss 1.469896, test error 39.00\n",
            "Epoch    79, train loss 0.078246, train error 0.22,  test loss 1.459051, test error 38.10\n",
            "Epoch    80, train loss 0.077057, train error 0.12,  test loss 1.491813, test error 38.90\n",
            "Epoch    81, train loss 0.076558, train error 0.30,  test loss 1.469649, test error 38.30\n",
            "Epoch    82, train loss 0.077377, train error 0.43,  test loss 1.500163, test error 38.60\n",
            "Epoch    83, train loss 0.065118, train error 0.10,  test loss 1.505472, test error 38.30\n",
            "Epoch    84, train loss 0.063145, train error 0.10,  test loss 1.516363, test error 38.20\n",
            "Epoch    85, train loss 0.061801, train error 0.00,  test loss 1.534618, test error 38.60\n",
            "Epoch    86, train loss 0.064759, train error 0.10,  test loss 1.519028, test error 38.60\n",
            "Epoch    87, train loss 0.054648, train error 0.00,  test loss 1.534729, test error 38.10\n",
            "Epoch    88, train loss 0.056601, train error 0.03,  test loss 1.553389, test error 38.90\n",
            "Epoch    89, train loss 0.051347, train error 0.00,  test loss 1.563304, test error 38.90\n",
            "Epoch    90, train loss 0.053238, train error 0.03,  test loss 1.592545, test error 38.30\n",
            "Epoch    91, train loss 0.046938, train error 0.00,  test loss 1.578262, test error 38.50\n",
            "Epoch    92, train loss 0.046005, train error 0.03,  test loss 1.580521, test error 38.10\n",
            "Epoch    93, train loss 0.046689, train error 0.00,  test loss 1.602767, test error 37.80\n",
            "Epoch    94, train loss 0.043172, train error 0.00,  test loss 1.613859, test error 38.40\n",
            "Epoch    95, train loss 0.041442, train error 0.00,  test loss 1.607212, test error 38.20\n",
            "Epoch    96, train loss 0.040241, train error 0.00,  test loss 1.623073, test error 38.20\n",
            "Epoch    97, train loss 0.039918, train error 0.00,  test loss 1.621043, test error 38.10\n",
            "Epoch    98, train loss 0.038346, train error 0.00,  test loss 1.633387, test error 38.10\n",
            "Epoch    99, train loss 0.036110, train error 0.00,  test loss 1.635216, test error 38.40\n"
          ]
        }
      ],
      "source": [
        "# choose cross entropy loss function (equation 5.24)\n",
        "loss_function = torch.nn.CrossEntropyLoss()\n",
        "\n",
        "# construct SGD optimizer and initialize learning rate and momentum\n",
        "# original lr = 0.05, momentum = 0.9\n",
        "optimizer = torch.optim.SGD(model.parameters(), lr = 0.1)\n",
        "\n",
        "# object that decreases learning rate by half every 10 epochs\n",
        "# scheduler = StepLR(optimizer, step_size=10, gamma=0.5)\n",
        "\n",
        "# create 100 dummy data points and store in data loader class\n",
        "x_train = torch.tensor(data['x'].astype('float32'))\n",
        "y_train = torch.tensor(data['y'].transpose().astype('long'))\n",
        "x_test= torch.tensor(data['x_test'].astype('float32'))\n",
        "y_test = torch.tensor(data['y_test'].astype('long'))\n",
        "\n",
        "# load the data into a class that creates the batches\n",
        "data_loader = DataLoader(TensorDataset(x_train,y_train), batch_size=100, shuffle=True, worker_init_fn=np.random.seed(1))\n",
        "\n",
        "# Initialize model weights\n",
        "model.apply(weights_init)\n",
        "\n",
        "# loop over the dataset n_epoch times\n",
        "n_epoch = 100 # was 50\n",
        "# store the loss and the % correct at each epoch\n",
        "losses_train = np.zeros((n_epoch))\n",
        "errors_train = np.zeros((n_epoch))\n",
        "losses_test = np.zeros((n_epoch))\n",
        "errors_test = np.zeros((n_epoch))\n",
        "\n",
        "for epoch in range(n_epoch):\n",
        "  # loop over batches\n",
        "  for i, batch in enumerate(data_loader):\n",
        "    # retrieve inputs and labels for this batch\n",
        "    x_batch, y_batch = batch\n",
        "    # zero the parameter gradients\n",
        "    optimizer.zero_grad()\n",
        "    # forward pass -- calculate model output\n",
        "    pred = model(x_batch)\n",
        "    # compute the loss\n",
        "    loss = loss_function(pred, y_batch)\n",
        "    # backward pass\n",
        "    loss.backward()\n",
        "    # SGD update\n",
        "    optimizer.step()\n",
        "\n",
        "  # Run whole dataset to get statistics -- normally wouldn't do this\n",
        "  pred_train = model(x_train)\n",
        "  pred_test = model(x_test)\n",
        "  _, predicted_train_class = torch.max(pred_train.data, 1)\n",
        "  _, predicted_test_class = torch.max(pred_test.data, 1)\n",
        "  errors_train[epoch] = 100 - 100 * (predicted_train_class == y_train).float().sum() / len(y_train)\n",
        "  errors_test[epoch]= 100 - 100 * (predicted_test_class == y_test).float().sum() / len(y_test)\n",
        "  losses_train[epoch] = loss_function(pred_train, y_train).item()\n",
        "  losses_test[epoch]= loss_function(pred_test, y_test).item()\n",
        "  print(f'Epoch {epoch:5d}, train loss {losses_train[epoch]:.6f}, train error {errors_train[epoch]:3.2f},  test loss {losses_test[epoch]:.6f}, test error {errors_test[epoch]:3.2f}')\n",
        "\n",
        "  # tell scheduler to consider updating learning rate\n",
        "  # scheduler.step()"
      ]
    },
    {
      "cell_type": "code",
      "execution_count": 24,
      "metadata": {
        "deletable": false,
        "editable": false,
        "nbgrader": {
          "cell_type": "code",
          "checksum": "4454db8bb00838cc44e7c26537c53f2f",
          "grade": true,
          "grade_id": "cell-754a905982bc643d",
          "locked": true,
          "points": 4,
          "schema_version": 3,
          "solution": false,
          "task": false
        },
        "id": "darOn1g22Vn0"
      },
      "outputs": [],
      "source": [
        "# Your trained model should satisfy these limits\n",
        "# Do not modify this cell\n",
        "\n",
        "assert losses_train[-1] < 0.05, \"Loss on training set is too high\"\n",
        "assert errors_train[-1] < .01, \"Error on training set is too high\"\n",
        "\n",
        "assert losses_test[-1] < 1.7, \"Loss on test set is too high\"\n",
        "assert np.min(losses_test) < 1.3, \"Minimum loss on test set is too high\"\n",
        "\n",
        "assert errors_test[-1] < 40, \"Error on test set is too high\""
      ]
    },
    {
      "cell_type": "code",
      "execution_count": 25,
      "metadata": {
        "deletable": false,
        "editable": false,
        "id": "yI-l6kA_EH9G",
        "nbgrader": {
          "cell_type": "code",
          "checksum": "37cbc1e83d17961f3d79fa26b04670d9",
          "grade": false,
          "grade_id": "cell-baa7be01fee0fa02",
          "locked": true,
          "schema_version": 3,
          "solution": false,
          "task": false
        },
        "colab": {
          "base_uri": "https://localhost:8080/",
          "height": 927
        },
        "outputId": "3dba30f0-b054-43ef-cae2-ecf0d8a39cc6"
      },
      "outputs": [
        {
          "output_type": "display_data",
          "data": {
            "text/plain": [
              "<Figure size 640x480 with 1 Axes>"
            ],
            "image/png": "[encoded data removed]"
          },
          "metadata": {}
        },
        {
          "output_type": "display_data",
          "data": {
            "text/plain": [
              "<Figure size 640x480 with 1 Axes>"
            ],
            "image/png": "[encoded data removed]"
          },
          "metadata": {}
        }
      ],
      "source": [
        "# Plot the results\n",
        "fig, ax = plt.subplots()\n",
        "ax.plot(errors_train,'r-',label='train')\n",
        "ax.plot(errors_test,'b-',label='test')\n",
        "ax.set_ylim(0,100); ax.set_xlim(0,n_epoch)\n",
        "ax.set_xlabel('Epoch'); ax.set_ylabel('Error')\n",
        "ax.set_title('TrainError %3.2f, Test Error %3.2f'%(errors_train[-1],errors_test[-1]))\n",
        "ax.legend()\n",
        "plt.show()\n",
        "\n",
        "# Plot the results\n",
        "fig, ax = plt.subplots()\n",
        "ax.plot(losses_train,'r-',label='train')\n",
        "ax.plot(losses_test,'b-',label='test')\n",
        "ax.set_xlim(0,n_epoch)\n",
        "ax.set_xlabel('Epoch'); ax.set_ylabel('Loss')\n",
        "ax.set_title('Train loss %3.2f, Test loss %3.2f'%(losses_train[-1],losses_test[-1]))\n",
        "ax.legend()\n",
        "plt.show()"
      ]
    },
    {
      "cell_type": "markdown",
      "metadata": {
        "deletable": false,
        "editable": false,
        "id": "q-yT6re6GZS4",
        "nbgrader": {
          "cell_type": "markdown",
          "checksum": "020629b488027218cdf69a8c96393f71",
          "grade": false,
          "grade_id": "cell-a4081a80112ce3e8",
          "locked": true,
          "schema_version": 3,
          "solution": false,
          "task": false
        }
      },
      "source": [
        "Look at the difference between training and test, and observe what is happening to test loss as training proceeds.\n",
        "\n",
        "We'll also come back and compare this to the convolutional neural network later."
      ]
    }
  ],
  "metadata": {
    "accelerator": "GPU",
    "colab": {
      "gpuType": "T4",
      "provenance": []
    },
    "kernelspec": {
      "display_name": "Python 3 (ipykernel)",
      "language": "python",
      "name": "python3"
    },
    "language_info": {
      "codemirror_mode": {
        "name": "ipython",
        "version": 3
      },
      "file_extension": ".py",
      "mimetype": "text/x-python",
      "name": "python",
      "nbconvert_exporter": "python",
      "pygments_lexer": "ipython3",
      "version": "3.11.5"
    }
  },
  "nbformat": 4,
  "nbformat_minor": 0
}