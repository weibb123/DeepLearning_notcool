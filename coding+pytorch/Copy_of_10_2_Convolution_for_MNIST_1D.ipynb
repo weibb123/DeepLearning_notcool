{
  "cells": [
    {
      "cell_type": "markdown",
      "metadata": {
        "id": "QYesCGNm9zVE"
      },
      "source": [
        "While editing this notebook, don't change cell types as that confuses the autograder.\n",
        "\n",
        "Before you turn this notebook in, make sure everything runs as expected. First, **restart the kernel** (in the menubar, select Kernel $\\rightarrow$ Restart) and then **run all cells** (in the menubar, select Cell $\\rightarrow$ Run All).\n",
        "\n",
        "Make sure you fill in any place that says `YOUR CODE HERE` or \"YOUR ANSWER HERE\", as well as your name below:"
      ]
    },
    {
      "cell_type": "code",
      "execution_count": 1,
      "metadata": {
        "id": "H5Kj4aWE9zVF"
      },
      "outputs": [],
      "source": [
        "NAME = \"Wei\""
      ]
    },
    {
      "cell_type": "markdown",
      "metadata": {
        "id": "ZnoYMWXd9zVG"
      },
      "source": [
        "_Understanding Deep Learning_"
      ]
    },
    {
      "cell_type": "markdown",
      "metadata": {
        "id": "Xig48MCp9zVG"
      },
      "source": [
        "---"
      ]
    },
    {
      "cell_type": "markdown",
      "metadata": {
        "id": "view-in-github"
      },
      "source": [
        "<a href=\"https://colab.research.google.com/github/DL4DS/sp2024_notebooks/blob/main/release/nbs10/10_2_Convolution_for_MNIST_1D.ipynb\" target=\"_parent\"><img src=\"https://colab.research.google.com/assets/colab-badge.svg\" alt=\"Open In Colab\"/></a>"
      ]
    },
    {
      "cell_type": "markdown",
      "metadata": {
        "deletable": false,
        "editable": false,
        "id": "t9vk9Elugvmi",
        "nbgrader": {
          "cell_type": "markdown",
          "checksum": "382f4c1f9e2e22529c4eca847b8a0295",
          "grade": false,
          "grade_id": "cell-826721bc9c861057",
          "locked": true,
          "schema_version": 3,
          "solution": false,
          "task": false
        }
      },
      "source": [
        "# Notebook 10.2: Convolution for MNIST-1D\n",
        "\n",
        "This notebook investigates a 1D convolutional network for MNIST-1D as in figure 10.7 and 10.8a.\n",
        "\n",
        "Adapted from notebooks at https://github.com/udlbook/udlbook."
      ]
    },
    {
      "cell_type": "code",
      "execution_count": 2,
      "metadata": {
        "deletable": false,
        "editable": false,
        "id": "D5yLObtZCi9J",
        "nbgrader": {
          "cell_type": "code",
          "checksum": "3be57dfed972074361fe13320fdbe067",
          "grade": false,
          "grade_id": "cell-38ca5c48c4502f04",
          "locked": true,
          "schema_version": 3,
          "solution": false,
          "task": false
        },
        "colab": {
          "base_uri": "https://localhost:8080/"
        },
        "outputId": "e22fd92e-2b25-4eec-b13e-48f99757688b"
      },
      "outputs": [
        {
          "output_type": "stream",
          "name": "stdout",
          "text": [
            "Cloning into 'mnist1d'...\n",
            "remote: Enumerating objects: 204, done.\u001b[K\n",
            "remote: Counting objects: 100% (76/76), done.\u001b[K\n",
            "remote: Compressing objects: 100% (35/35), done.\u001b[K\n",
            "remote: Total 204 (delta 47), reused 60 (delta 41), pack-reused 128\u001b[K\n",
            "Receiving objects: 100% (204/204), 8.42 MiB | 16.81 MiB/s, done.\n",
            "Resolving deltas: 100% (73/73), done.\n"
          ]
        }
      ],
      "source": [
        "# Clone the mnist1d repository if it doesn't exist\n",
        "import os\n",
        "\n",
        "if not os.path.exists('mnist1d'):\n",
        "    !git clone https://github.com/greydanus/mnist1d"
      ]
    },
    {
      "cell_type": "code",
      "source": [
        "pip install torchinfo"
      ],
      "metadata": {
        "colab": {
          "base_uri": "https://localhost:8080/"
        },
        "id": "o0TDbUvG_oK3",
        "outputId": "7d6b9acb-882d-48e5-ea76-8ba2da7b6e0e"
      },
      "execution_count": 3,
      "outputs": [
        {
          "output_type": "stream",
          "name": "stdout",
          "text": [
            "Collecting torchinfo\n",
            "  Downloading torchinfo-1.8.0-py3-none-any.whl (23 kB)\n",
            "Installing collected packages: torchinfo\n",
            "Successfully installed torchinfo-1.8.0\n"
          ]
        }
      ]
    },
    {
      "cell_type": "code",
      "execution_count": 4,
      "metadata": {
        "deletable": false,
        "editable": false,
        "id": "YrXWAH7sUWvU",
        "nbgrader": {
          "cell_type": "code",
          "checksum": "ae641d4a33b8951c20767dd08ca09df4",
          "grade": false,
          "grade_id": "cell-898018bfe2eae0a0",
          "locked": true,
          "schema_version": 3,
          "solution": false,
          "task": false
        }
      },
      "outputs": [],
      "source": [
        "import numpy as np\n",
        "import os\n",
        "import torch, torch.nn as nn\n",
        "from torch.utils.data import TensorDataset, DataLoader\n",
        "from torch.optim.lr_scheduler import StepLR\n",
        "import matplotlib.pyplot as plt\n",
        "import mnist1d\n",
        "import random\n",
        "from torchinfo import summary"
      ]
    },
    {
      "cell_type": "code",
      "execution_count": 5,
      "metadata": {
        "deletable": false,
        "editable": false,
        "id": "twI72ZCrCt5z",
        "nbgrader": {
          "cell_type": "code",
          "checksum": "d528988585d87180da6af0099959a9af",
          "grade": false,
          "grade_id": "cell-dba2f652f646650b",
          "locked": true,
          "schema_version": 3,
          "solution": false,
          "task": false
        },
        "colab": {
          "base_uri": "https://localhost:8080/"
        },
        "outputId": "692bcb4c-de28-420a-e8e4-fccc359f7e55"
      },
      "outputs": [
        {
          "output_type": "stream",
          "name": "stdout",
          "text": [
            "Did or could not load data from ./mnist1d_data.pkl. Rebuilding dataset...\n",
            "Examples in training set: 4000\n",
            "Examples in test set: 1000\n",
            "Length of each example: 40\n"
          ]
        }
      ],
      "source": [
        "args = mnist1d.data.get_dataset_args()\n",
        "data = mnist1d.data.get_dataset(args, path='./mnist1d_data.pkl', download=False, regenerate=False)\n",
        "\n",
        "# The training and test input and outputs are in\n",
        "# data['x'], data['y'], data['x_test'], and data['y_test']\n",
        "print(\"Examples in training set: {}\".format(len(data['y'])))\n",
        "print(\"Examples in test set: {}\".format(len(data['y_test'])))\n",
        "print(\"Length of each example: {}\".format(data['x'].shape[-1]))"
      ]
    },
    {
      "cell_type": "code",
      "execution_count": 6,
      "metadata": {
        "deletable": false,
        "editable": false,
        "id": "8bKADvLHbiV5",
        "nbgrader": {
          "cell_type": "code",
          "checksum": "33f15b626b9e30c047c82c1b3335f3b5",
          "grade": false,
          "grade_id": "cell-186d8014f879b8bc",
          "locked": true,
          "schema_version": 3,
          "solution": false,
          "task": false
        },
        "colab": {
          "base_uri": "https://localhost:8080/"
        },
        "outputId": "633df56e-8e6f-41ff-92b0-d1769e6062da"
      },
      "outputs": [
        {
          "output_type": "stream",
          "name": "stdout",
          "text": [
            "Train data: 4000 examples (columns), each of which has 40 dimensions (rows)\n",
            "Validation data: 1000 examples (columns), each of which has 40 dimensions (rows)\n"
          ]
        }
      ],
      "source": [
        "# Load in the data\n",
        "train_data_x = data['x'].transpose()\n",
        "train_data_y = data['y']\n",
        "val_data_x = data['x_test'].transpose()\n",
        "val_data_y = data['y_test']\n",
        "# Print out sizes\n",
        "print(\"Train data: %d examples (columns), each of which has %d dimensions (rows)\"%((train_data_x.shape[1],train_data_x.shape[0])))\n",
        "print(\"Validation data: %d examples (columns), each of which has %d dimensions (rows)\"%((val_data_x.shape[1],val_data_x.shape[0])))"
      ]
    },
    {
      "cell_type": "markdown",
      "metadata": {
        "deletable": false,
        "editable": false,
        "id": "_sFvRDGrl4qe",
        "nbgrader": {
          "cell_type": "markdown",
          "checksum": "d041e0eb4ec05e1c155d77843424d064",
          "grade": false,
          "grade_id": "cell-c8ea2152bd84384a",
          "locked": true,
          "schema_version": 3,
          "solution": false,
          "task": false
        }
      },
      "source": [
        "Define the network"
      ]
    },
    {
      "cell_type": "code",
      "execution_count": 9,
      "metadata": {
        "deletable": false,
        "id": "FslroPJJffrh",
        "nbgrader": {
          "cell_type": "code",
          "checksum": "c1bf01f51f97e92202957cfb0bd5c2fa",
          "grade": false,
          "grade_id": "cell-6cc7ac979be00536",
          "locked": false,
          "schema_version": 3,
          "solution": true,
          "task": false
        }
      },
      "outputs": [],
      "source": [
        "# There are 40 input dimensions and 10 output dimensions for this data\n",
        "# The inputs correspond to the 40 offsets in the MNIST1D template.\n",
        "D_i = 40\n",
        "# The outputs correspond to the 10 digits\n",
        "D_o = 10\n",
        "\n",
        "\n",
        "# TODO Create a model with the following layers\n",
        "# 1. Convolutional layer, (input=length 40 and 1 channel, kernel size 3, stride 2, padding=\"valid\", 15 output channels )\n",
        "# 2. ReLU\n",
        "# 3. Convolutional layer, (input=length 19 and 15 channels, kernel size 3, stride 2, padding=\"valid\", 15 output channels )\n",
        "# 4. ReLU\n",
        "# 5. Convolutional layer, (input=length 9 and 15 channels, kernel size 3, stride 2, padding=\"valid\", 15 output channels)\n",
        "# 6. ReLU\n",
        "# 7. Flatten (converts 4x15) to length 60\n",
        "# 8. Linear layer (input size = 60, output size = 10)\n",
        "# References:\n",
        "# https://pytorch.org/docs/1.13/generated/torch.nn.Conv1d.html?highlight=conv1d#torch.nn.Conv1d\n",
        "# https://pytorch.org/docs/stable/generated/torch.nn.Flatten.html\n",
        "# https://pytorch.org/docs/1.13/generated/torch.nn.Linear.html?highlight=linear#torch.nn.Linear\n",
        "\n",
        "# NOTE THAT THE CONVOLUTIONAL LAYERS NEED TO TAKE THE NUMBER OF INPUT CHANNELS AS A PARAMETER\n",
        "# AND NOT THE INPUT SIZE.\n",
        "\n",
        "# YOUR CODE HERE\n",
        "model = nn.Sequential(\n",
        "    nn.Conv1d(in_channels = 1, out_channels=15, kernel_size=3, stride=2, padding=\"valid\"),\n",
        "    nn.ReLU(),\n",
        "    nn.Conv1d(in_channels = 15, out_channels=15, kernel_size=3, stride=2, padding=\"valid\"),\n",
        "    nn.ReLU(),\n",
        "    nn.Conv1d(in_channels=15, kernel_size=3, stride=2, padding=\"valid\", out_channels=15),\n",
        "    nn.ReLU(),\n",
        "    nn.Flatten(),\n",
        "    nn.Linear(60, 10))\n"
      ]
    },
    {
      "cell_type": "code",
      "execution_count": 10,
      "metadata": {
        "deletable": false,
        "editable": false,
        "id": "YgLaex1pfhqz",
        "nbgrader": {
          "cell_type": "code",
          "checksum": "5edaca79d353a5efb20038a5088639d1",
          "grade": false,
          "grade_id": "cell-1657acd518aefc28",
          "locked": true,
          "schema_version": 3,
          "solution": false,
          "task": false
        }
      },
      "outputs": [],
      "source": [
        "# He initialization of weights\n",
        "def weights_init(layer_in):\n",
        "  if isinstance(layer_in, nn.Linear):\n",
        "    nn.init.kaiming_uniform_(layer_in.weight)\n",
        "    layer_in.bias.data.fill_(0.0)"
      ]
    },
    {
      "cell_type": "code",
      "execution_count": 11,
      "metadata": {
        "deletable": false,
        "editable": false,
        "id": "NYw8I_3mmX5c",
        "nbgrader": {
          "cell_type": "code",
          "checksum": "568c5cef459f5a0b7ab6a39bdba88974",
          "grade": false,
          "grade_id": "cell-23c12ca27b87659a",
          "locked": true,
          "schema_version": 3,
          "solution": false,
          "task": false
        }
      },
      "outputs": [],
      "source": [
        "# choose cross entropy loss function (equation 5.24 in the loss notes)\n",
        "loss_function = nn.CrossEntropyLoss()\n",
        "# construct SGD optimizer and initialize learning rate and momentum\n",
        "optimizer = torch.optim.SGD(model.parameters(), lr = 0.05, momentum=0.9)\n",
        "# object that decreases learning rate by half every 20 epochs\n",
        "scheduler = StepLR(optimizer, step_size=20, gamma=0.5)"
      ]
    },
    {
      "cell_type": "code",
      "execution_count": 12,
      "metadata": {
        "deletable": false,
        "editable": false,
        "nbgrader": {
          "cell_type": "code",
          "checksum": "173cee8439025fd052f81a46983b96b2",
          "grade": false,
          "grade_id": "cell-bba067cd071fbc90",
          "locked": true,
          "schema_version": 3,
          "solution": false,
          "task": false
        },
        "id": "QUlAJWhr9zVJ"
      },
      "outputs": [],
      "source": [
        "# create 100 dummy data points and store in data loader class\n",
        "x_train = torch.tensor(train_data_x.transpose().astype('float32'))\n",
        "y_train = torch.tensor(train_data_y.astype('long')).long()\n",
        "x_val= torch.tensor(val_data_x.transpose().astype('float32'))\n",
        "y_val = torch.tensor(val_data_y.astype('long')).long()\n",
        "\n",
        "# load the data into a class that creates the batches\n",
        "data_loader = DataLoader(TensorDataset(x_train,y_train), batch_size=100, shuffle=True, worker_init_fn=np.random.seed(1))"
      ]
    },
    {
      "cell_type": "code",
      "execution_count": 13,
      "metadata": {
        "deletable": false,
        "editable": false,
        "nbgrader": {
          "cell_type": "code",
          "checksum": "64c9a0ab3fc2f0af1677d4922a7ac539",
          "grade": false,
          "grade_id": "cell-16e01f293696a21b",
          "locked": true,
          "schema_version": 3,
          "solution": false,
          "task": false
        },
        "id": "avTssQM69zVK",
        "colab": {
          "base_uri": "https://localhost:8080/"
        },
        "outputId": "b95a11cd-88f3-4b9f-942f-d75054a86ff2"
      },
      "outputs": [
        {
          "output_type": "stream",
          "name": "stdout",
          "text": [
            "40\n",
            "4000\n",
            "4000\n",
            "1000\n",
            "1000\n"
          ]
        }
      ],
      "source": [
        "print(len(data_loader))\n",
        "print(len(x_train))\n",
        "print(len(y_train))\n",
        "print(len(x_val))\n",
        "print(len(y_val))"
      ]
    },
    {
      "cell_type": "code",
      "execution_count": 14,
      "metadata": {
        "deletable": false,
        "editable": false,
        "nbgrader": {
          "cell_type": "code",
          "checksum": "4c1a444c0e5d3aec20174f63a44999f3",
          "grade": false,
          "grade_id": "cell-f302fdf1bec52860",
          "locked": true,
          "schema_version": 3,
          "solution": false,
          "task": false
        },
        "id": "WEnoxP4g9zVK",
        "colab": {
          "base_uri": "https://localhost:8080/"
        },
        "outputId": "324c9019-7886-4999-dabc-4d3dba652a15"
      },
      "outputs": [
        {
          "output_type": "stream",
          "name": "stdout",
          "text": [
            "Sequential(\n",
            "  (0): Conv1d(1, 15, kernel_size=(3,), stride=(2,), padding=valid)\n",
            "  (1): ReLU()\n",
            "  (2): Conv1d(15, 15, kernel_size=(3,), stride=(2,), padding=valid)\n",
            "  (3): ReLU()\n",
            "  (4): Conv1d(15, 15, kernel_size=(3,), stride=(2,), padding=valid)\n",
            "  (5): ReLU()\n",
            "  (6): Flatten(start_dim=1, end_dim=-1)\n",
            "  (7): Linear(in_features=60, out_features=10, bias=True)\n",
            ")\n"
          ]
        },
        {
          "output_type": "execute_result",
          "data": {
            "text/plain": [
              "==========================================================================================\n",
              "Layer (type:depth-idx)                   Output Shape              Param #\n",
              "==========================================================================================\n",
              "Sequential                               [100, 10]                 --\n",
              "├─Conv1d: 1-1                            [100, 15, 19]             60\n",
              "├─ReLU: 1-2                              [100, 15, 19]             --\n",
              "├─Conv1d: 1-3                            [100, 15, 9]              690\n",
              "├─ReLU: 1-4                              [100, 15, 9]              --\n",
              "├─Conv1d: 1-5                            [100, 15, 4]              690\n",
              "├─ReLU: 1-6                              [100, 15, 4]              --\n",
              "├─Flatten: 1-7                           [100, 60]                 --\n",
              "├─Linear: 1-8                            [100, 10]                 610\n",
              "==========================================================================================\n",
              "Total params: 2,050\n",
              "Trainable params: 2,050\n",
              "Non-trainable params: 0\n",
              "Total mult-adds (M): 1.07\n",
              "==========================================================================================\n",
              "Input size (MB): 0.02\n",
              "Forward/backward pass size (MB): 0.39\n",
              "Params size (MB): 0.01\n",
              "Estimated Total Size (MB): 0.42\n",
              "=========================================================================================="
            ]
          },
          "metadata": {},
          "execution_count": 14
        }
      ],
      "source": [
        "# Initialize model weights\n",
        "model.apply(weights_init)\n",
        "print(model)\n",
        "summary(model, input_size=(100, 1, 40))"
      ]
    },
    {
      "cell_type": "code",
      "execution_count": 15,
      "metadata": {
        "deletable": false,
        "editable": false,
        "nbgrader": {
          "cell_type": "code",
          "checksum": "1771937d0163ddb19834dd1e4e604ab6",
          "grade": false,
          "grade_id": "cell-77d13e8a54937cbe",
          "locked": true,
          "schema_version": 3,
          "solution": false,
          "task": false
        },
        "id": "i6nwj1g_9zVK",
        "colab": {
          "base_uri": "https://localhost:8080/",
          "height": 1000
        },
        "outputId": "1e0da1df-684d-4050-e9b7-c71dfa6373c7"
      },
      "outputs": [
        {
          "output_type": "stream",
          "name": "stdout",
          "text": [
            "Epoch     0, train loss 1.941297, train error 74.28,  val loss 1.947611, percent error 75.70\n",
            "Epoch     1, train loss 1.545876, train error 60.50,  val loss 1.590061, percent error 63.70\n",
            "Epoch     2, train loss 1.365245, train error 56.70,  val loss 1.388014, percent error 57.40\n",
            "Epoch     3, train loss 1.276698, train error 50.15,  val loss 1.271918, percent error 51.70\n",
            "Epoch     4, train loss 1.180543, train error 46.97,  val loss 1.189901, percent error 50.10\n",
            "Epoch     5, train loss 1.056210, train error 41.35,  val loss 1.071907, percent error 45.40\n",
            "Epoch     6, train loss 1.049180, train error 42.97,  val loss 1.081201, percent error 46.60\n",
            "Epoch     7, train loss 0.866958, train error 35.05,  val loss 0.910271, percent error 38.40\n",
            "Epoch     8, train loss 0.718005, train error 29.68,  val loss 0.767064, percent error 31.30\n",
            "Epoch     9, train loss 0.726588, train error 27.82,  val loss 0.785575, percent error 31.00\n",
            "Epoch    10, train loss 0.646390, train error 25.12,  val loss 0.709582, percent error 27.70\n",
            "Epoch    11, train loss 0.597031, train error 24.18,  val loss 0.680395, percent error 26.20\n",
            "Epoch    12, train loss 0.521526, train error 19.35,  val loss 0.597498, percent error 22.60\n",
            "Epoch    13, train loss 0.488567, train error 18.28,  val loss 0.608172, percent error 21.90\n",
            "Epoch    14, train loss 0.446060, train error 16.12,  val loss 0.549500, percent error 20.10\n",
            "Epoch    15, train loss 0.424146, train error 16.07,  val loss 0.521091, percent error 19.60\n",
            "Epoch    16, train loss 0.425138, train error 15.00,  val loss 0.537125, percent error 19.50\n",
            "Epoch    17, train loss 0.317223, train error 11.35,  val loss 0.450602, percent error 16.40\n",
            "Epoch    18, train loss 0.421382, train error 15.32,  val loss 0.549916, percent error 19.20\n",
            "Epoch    19, train loss 0.309405, train error 10.65,  val loss 0.457468, percent error 15.80\n",
            "Epoch    20, train loss 0.229246, train error 8.40,  val loss 0.392407, percent error 13.40\n",
            "Epoch    21, train loss 0.209504, train error 7.45,  val loss 0.386100, percent error 13.50\n",
            "Epoch    22, train loss 0.186893, train error 6.32,  val loss 0.361745, percent error 12.20\n",
            "Epoch    23, train loss 0.182996, train error 6.00,  val loss 0.367484, percent error 11.30\n",
            "Epoch    24, train loss 0.166513, train error 5.45,  val loss 0.370747, percent error 13.00\n",
            "Epoch    25, train loss 0.171354, train error 5.57,  val loss 0.363930, percent error 12.00\n",
            "Epoch    26, train loss 0.169092, train error 5.72,  val loss 0.380716, percent error 12.90\n",
            "Epoch    27, train loss 0.158140, train error 5.18,  val loss 0.365865, percent error 12.10\n",
            "Epoch    28, train loss 0.148977, train error 4.95,  val loss 0.365261, percent error 11.00\n",
            "Epoch    29, train loss 0.147208, train error 4.70,  val loss 0.409866, percent error 11.20\n",
            "Epoch    30, train loss 0.130709, train error 4.38,  val loss 0.369521, percent error 11.30\n",
            "Epoch    31, train loss 0.165891, train error 5.57,  val loss 0.394315, percent error 11.90\n",
            "Epoch    32, train loss 0.128777, train error 4.32,  val loss 0.396877, percent error 10.90\n",
            "Epoch    33, train loss 0.129943, train error 4.25,  val loss 0.422334, percent error 12.80\n",
            "Epoch    34, train loss 0.126009, train error 4.25,  val loss 0.404395, percent error 11.20\n",
            "Epoch    35, train loss 0.129078, train error 4.53,  val loss 0.407344, percent error 12.00\n",
            "Epoch    36, train loss 0.125267, train error 4.28,  val loss 0.399732, percent error 11.40\n",
            "Epoch    37, train loss 0.106641, train error 3.55,  val loss 0.375486, percent error 10.80\n",
            "Epoch    38, train loss 0.101793, train error 3.35,  val loss 0.392793, percent error 10.90\n",
            "Epoch    39, train loss 0.148605, train error 5.40,  val loss 0.451069, percent error 11.90\n",
            "Epoch    40, train loss 0.083061, train error 2.32,  val loss 0.372381, percent error 10.30\n",
            "Epoch    41, train loss 0.081059, train error 2.38,  val loss 0.391474, percent error 11.00\n",
            "Epoch    42, train loss 0.086285, train error 2.50,  val loss 0.402601, percent error 11.50\n",
            "Epoch    43, train loss 0.074918, train error 2.05,  val loss 0.389074, percent error 11.10\n",
            "Epoch    44, train loss 0.081831, train error 2.43,  val loss 0.412504, percent error 11.30\n",
            "Epoch    45, train loss 0.077285, train error 2.45,  val loss 0.373582, percent error 10.70\n",
            "Epoch    46, train loss 0.080308, train error 2.65,  val loss 0.407198, percent error 10.80\n",
            "Epoch    47, train loss 0.070743, train error 1.82,  val loss 0.400679, percent error 11.10\n",
            "Epoch    48, train loss 0.074203, train error 2.12,  val loss 0.410770, percent error 10.60\n",
            "Epoch    49, train loss 0.066883, train error 1.80,  val loss 0.408112, percent error 10.90\n",
            "Epoch    50, train loss 0.063398, train error 1.50,  val loss 0.413331, percent error 11.10\n",
            "Epoch    51, train loss 0.062748, train error 1.75,  val loss 0.391444, percent error 11.40\n",
            "Epoch    52, train loss 0.063887, train error 1.70,  val loss 0.426912, percent error 11.40\n",
            "Epoch    53, train loss 0.069707, train error 2.12,  val loss 0.442968, percent error 11.60\n",
            "Epoch    54, train loss 0.059928, train error 1.53,  val loss 0.413663, percent error 11.30\n",
            "Epoch    55, train loss 0.071730, train error 2.30,  val loss 0.437913, percent error 11.10\n",
            "Epoch    56, train loss 0.057290, train error 1.38,  val loss 0.406972, percent error 10.80\n",
            "Epoch    57, train loss 0.055592, train error 1.45,  val loss 0.417362, percent error 11.00\n",
            "Epoch    58, train loss 0.056363, train error 1.38,  val loss 0.412844, percent error 10.30\n",
            "Epoch    59, train loss 0.062109, train error 1.85,  val loss 0.432053, percent error 11.00\n",
            "Epoch    60, train loss 0.052187, train error 1.32,  val loss 0.435284, percent error 10.90\n",
            "Epoch    61, train loss 0.049213, train error 1.10,  val loss 0.431346, percent error 11.20\n",
            "Epoch    62, train loss 0.048651, train error 1.18,  val loss 0.431133, percent error 11.20\n",
            "Epoch    63, train loss 0.048960, train error 1.15,  val loss 0.426141, percent error 10.90\n",
            "Epoch    64, train loss 0.048797, train error 1.18,  val loss 0.438303, percent error 10.80\n",
            "Epoch    65, train loss 0.046924, train error 1.03,  val loss 0.426247, percent error 11.20\n",
            "Epoch    66, train loss 0.047136, train error 1.05,  val loss 0.445640, percent error 11.10\n",
            "Epoch    67, train loss 0.050218, train error 1.47,  val loss 0.434636, percent error 10.70\n",
            "Epoch    68, train loss 0.045713, train error 1.05,  val loss 0.436938, percent error 11.60\n",
            "Epoch    69, train loss 0.045603, train error 1.05,  val loss 0.440946, percent error 11.10\n",
            "Epoch    70, train loss 0.043995, train error 1.00,  val loss 0.445609, percent error 10.90\n",
            "Epoch    71, train loss 0.044206, train error 1.00,  val loss 0.444034, percent error 10.90\n",
            "Epoch    72, train loss 0.046774, train error 1.12,  val loss 0.462709, percent error 10.90\n",
            "Epoch    73, train loss 0.043182, train error 1.05,  val loss 0.445827, percent error 11.20\n",
            "Epoch    74, train loss 0.042148, train error 1.00,  val loss 0.443217, percent error 11.20\n",
            "Epoch    75, train loss 0.041017, train error 0.90,  val loss 0.453408, percent error 11.50\n",
            "Epoch    76, train loss 0.040840, train error 0.90,  val loss 0.455929, percent error 11.20\n",
            "Epoch    77, train loss 0.041838, train error 0.88,  val loss 0.453706, percent error 11.50\n",
            "Epoch    78, train loss 0.041546, train error 0.95,  val loss 0.455942, percent error 11.40\n",
            "Epoch    79, train loss 0.042837, train error 0.97,  val loss 0.468954, percent error 11.40\n",
            "Epoch    80, train loss 0.038852, train error 0.88,  val loss 0.461411, percent error 11.20\n",
            "Epoch    81, train loss 0.038765, train error 0.80,  val loss 0.460020, percent error 11.60\n",
            "Epoch    82, train loss 0.038138, train error 0.80,  val loss 0.455267, percent error 11.30\n",
            "Epoch    83, train loss 0.038435, train error 0.78,  val loss 0.461206, percent error 11.60\n",
            "Epoch    84, train loss 0.038145, train error 0.88,  val loss 0.462677, percent error 11.20\n",
            "Epoch    85, train loss 0.038208, train error 0.85,  val loss 0.457612, percent error 11.20\n",
            "Epoch    86, train loss 0.039008, train error 0.80,  val loss 0.466304, percent error 11.40\n",
            "Epoch    87, train loss 0.037478, train error 0.85,  val loss 0.464148, percent error 11.10\n",
            "Epoch    88, train loss 0.036965, train error 0.72,  val loss 0.467610, percent error 11.50\n",
            "Epoch    89, train loss 0.036706, train error 0.78,  val loss 0.466788, percent error 11.30\n",
            "Epoch    90, train loss 0.036495, train error 0.72,  val loss 0.470033, percent error 11.50\n",
            "Epoch    91, train loss 0.039424, train error 1.00,  val loss 0.467186, percent error 11.80\n",
            "Epoch    92, train loss 0.036780, train error 0.70,  val loss 0.474537, percent error 11.60\n",
            "Epoch    93, train loss 0.036209, train error 0.72,  val loss 0.475491, percent error 11.40\n",
            "Epoch    94, train loss 0.035785, train error 0.68,  val loss 0.475116, percent error 11.70\n",
            "Epoch    95, train loss 0.035644, train error 0.75,  val loss 0.475653, percent error 11.40\n",
            "Epoch    96, train loss 0.035963, train error 0.70,  val loss 0.477943, percent error 11.40\n",
            "Epoch    97, train loss 0.035018, train error 0.65,  val loss 0.476715, percent error 11.50\n",
            "Epoch    98, train loss 0.034722, train error 0.65,  val loss 0.473226, percent error 11.40\n",
            "Epoch    99, train loss 0.035107, train error 0.72,  val loss 0.475358, percent error 11.30\n"
          ]
        },
        {
          "output_type": "display_data",
          "data": {
            "text/plain": [
              "<Figure size 640x480 with 1 Axes>"
            ],
            "image/png": "[encoded data removed]"
          },
          "metadata": {}
        }
      ],
      "source": [
        "\n",
        "# loop over the dataset n_epoch times\n",
        "n_epoch = 100\n",
        "# store the loss and the % correct at each epoch\n",
        "losses_train = np.zeros((n_epoch))\n",
        "errors_train = np.zeros((n_epoch))\n",
        "losses_val = np.zeros((n_epoch))\n",
        "errors_val = np.zeros((n_epoch))\n",
        "\n",
        "for epoch in range(n_epoch):\n",
        "  # loop over batches\n",
        "  for i, data in enumerate(data_loader):\n",
        "    # retrieve inputs and labels for this batch\n",
        "    x_batch, y_batch = data\n",
        "    # zero the parameter gradients\n",
        "    optimizer.zero_grad()\n",
        "    # forward pass -- calculate model output\n",
        "    pred = model(x_batch[:,None,:])\n",
        "    # compute the loss\n",
        "    loss = loss_function(pred, y_batch)\n",
        "    # backward pass\n",
        "    loss.backward()\n",
        "    # SGD update\n",
        "    optimizer.step()\n",
        "\n",
        "  # Run whole dataset to get statistics -- normally wouldn't do this\n",
        "  pred_train = model(x_train[:,None,:])\n",
        "  pred_val = model(x_val[:,None,:])\n",
        "  _, predicted_train_class = torch.max(pred_train.data, 1)\n",
        "  _, predicted_val_class = torch.max(pred_val.data, 1)\n",
        "  errors_train[epoch] = 100 - 100 * (predicted_train_class == y_train).float().sum() / len(y_train)\n",
        "  errors_val[epoch]= 100 - 100 * (predicted_val_class == y_val).float().sum() / len(y_val)\n",
        "  losses_train[epoch] = loss_function(pred_train, y_train).item()\n",
        "  losses_val[epoch]= loss_function(pred_val, y_val).item()\n",
        "  print(f'Epoch {epoch:5d}, train loss {losses_train[epoch]:.6f}, train error {errors_train[epoch]:3.2f},  val loss {losses_val[epoch]:.6f}, percent error {errors_val[epoch]:3.2f}')\n",
        "\n",
        "  # tell scheduler to consider updating learning rate\n",
        "  scheduler.step()\n",
        "\n",
        "# Plot the results\n",
        "fig, ax = plt.subplots()\n",
        "ax.plot(errors_train,'r-',label='train')\n",
        "ax.plot(errors_val,'b-',label='validation')\n",
        "ax.set_ylim(0,100); ax.set_xlim(0,n_epoch)\n",
        "ax.set_xlabel('Epoch'); ax.set_ylabel('Error')\n",
        "ax.set_title('Part I: Validation Result %3.2f'%(errors_val[-1]))\n",
        "ax.legend()\n",
        "plt.show()"
      ]
    },
    {
      "cell_type": "markdown",
      "metadata": {
        "deletable": false,
        "editable": false,
        "nbgrader": {
          "cell_type": "markdown",
          "checksum": "f98124720f6b6c6797ca4f0c0c078e95",
          "grade": false,
          "grade_id": "cell-f9aedc7087a3d938",
          "locked": true,
          "schema_version": 3,
          "solution": false,
          "task": false
        },
        "id": "89PEogP19zVK"
      },
      "source": [
        "Compare the number of parameters from the model summary above and the test error\n",
        "with the fully connected model in 8_1_MNIST_1D_Performance.ipynb."
      ]
    }
  ],
  "metadata": {
    "colab": {
      "provenance": []
    },
    "kernelspec": {
      "display_name": "Python 3 (ipykernel)",
      "language": "python",
      "name": "python3"
    },
    "language_info": {
      "codemirror_mode": {
        "name": "ipython",
        "version": 3
      },
      "file_extension": ".py",
      "mimetype": "text/x-python",
      "name": "python",
      "nbconvert_exporter": "python",
      "pygments_lexer": "ipython3",
      "version": "3.11.5"
    }
  },
  "nbformat": 4,
  "nbformat_minor": 0
}