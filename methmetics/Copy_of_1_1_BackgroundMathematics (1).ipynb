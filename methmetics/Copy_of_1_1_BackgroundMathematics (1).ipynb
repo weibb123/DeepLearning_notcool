{
  "cells": [
    {
      "cell_type": "markdown",
      "metadata": {
        "id": "kor_mWYTt1Qq"
      },
      "source": [
        "Before you turn this notebook in, make sure everything runs as expected. First, **restart the kernel** (in the menubar, select Kernel $\\rightarrow$ Restart) and then **run all cells** (in the menubar, select Cell $\\rightarrow$ Run All).\n",
        "\n",
        "Make sure you fill in any place that says `YOUR CODE HERE` or \"YOUR ANSWER HERE\", as well as your name below:"
      ]
    },
    {
      "cell_type": "code",
      "execution_count": 1,
      "metadata": {
        "id": "hBKQ-HwGt1Qt"
      },
      "outputs": [],
      "source": [
        "NAME = \"Wei\""
      ]
    },
    {
      "cell_type": "markdown",
      "metadata": {
        "id": "k9kAP_8dt1Qv"
      },
      "source": [
        "_Understanding Deep Learning_"
      ]
    },
    {
      "cell_type": "markdown",
      "metadata": {
        "id": "oLnb9Cd6t1Qv"
      },
      "source": [
        "---"
      ]
    },
    {
      "cell_type": "markdown",
      "metadata": {
        "id": "view-in-github"
      },
      "source": [
        "<a href=\"https://colab.research.google.com/github/DL4DS/sp2024_notebooks/blob/main/release/nbs01/1_1_BackgroundMathematics.ipynb\" target=\"_blank\"><img src=\"https://colab.research.google.com/assets/colab-badge.svg\" alt=\"Open In Colab\"/></a>"
      ]
    },
    {
      "cell_type": "markdown",
      "metadata": {
        "deletable": false,
        "editable": false,
        "id": "s5zzKSOusPOB",
        "nbgrader": {
          "cell_type": "markdown",
          "checksum": "9dd7f5ded44baa441bf02e679271469b",
          "grade": false,
          "grade_id": "cell-bd0d2ef277564556",
          "locked": true,
          "schema_version": 3,
          "solution": false,
          "task": false
        }
      },
      "source": [
        "# Notebook 1.1 -- Background Mathematics\n",
        "\n",
        "The purpose of this Python notebook is to make sure you can run notebooks on\n",
        "either your local environment or on CoLab and to familiarize yourself with some of the background mathematical concepts that you are going to need to understand deep learning.\n",
        "\n",
        "It's not meant to be difficult and it may be that you know some or all of this information already.\n",
        "\n",
        "Math is *NOT* a spectator sport.  You won't learn it by just listening to lectures or reading books.  It really helps to interact with it and explore yourself.\n",
        "\n",
        "Work through the cells below, running each cell in turn.  In various places you will see the words **YOUR CODE HERE**. Follow the instructions at these places and write code to complete the functions.  There are also questions interspersed in the text."
      ]
    },
    {
      "cell_type": "code",
      "execution_count": 2,
      "metadata": {
        "deletable": false,
        "editable": false,
        "id": "aUAjBbqzivMY",
        "nbgrader": {
          "cell_type": "code",
          "checksum": "82aa92c4bdb62c3d8334d58b165f4f72",
          "grade": false,
          "grade_id": "cell-7d3d3a8880b61a17",
          "locked": true,
          "schema_version": 3,
          "solution": false,
          "task": false
        }
      },
      "outputs": [],
      "source": [
        "# Imports math library\n",
        "import numpy as np\n",
        "# Imports plotting library\n",
        "import matplotlib.pyplot as plt"
      ]
    },
    {
      "cell_type": "markdown",
      "metadata": {
        "deletable": false,
        "editable": false,
        "id": "WV2Dl6owme2d",
        "nbgrader": {
          "cell_type": "markdown",
          "checksum": "c5c72af646ade7c6f4055507f9e9cf31",
          "grade": false,
          "grade_id": "cell-1e88c199268e08a0",
          "locked": true,
          "schema_version": 3,
          "solution": false,
          "task": false
        }
      },
      "source": [
        "### Linear functions\n",
        "We will be using the term *linear equation* to mean a weighted sum of inputs plus an offset. If there is just one input $x$, then this is a straight line:\n",
        "\n",
        "$$ y=\\beta+\\omega x,$$\n",
        "\n",
        "where $\\beta$ is the y-intercept of the linear and $\\omega$ is the slope of the line. When there are two inputs $x_{1}$ and $x_{2}$, then this becomes:\n",
        "\n",
        "$$y=\\beta+\\omega_1 x_1 + \\omega_2 x_2.$$\n",
        "\n",
        "Any other functions are by definition **non-linear**.\n",
        "\n",
        "\n"
      ]
    },
    {
      "cell_type": "code",
      "execution_count": 3,
      "metadata": {
        "deletable": false,
        "id": "WeFK4AvTotd8",
        "nbgrader": {
          "cell_type": "code",
          "checksum": "57a881f01ac565c9a7c4b708704611e2",
          "grade": false,
          "grade_id": "linear_func_1d",
          "locked": false,
          "schema_version": 3,
          "solution": true,
          "task": false
        }
      },
      "outputs": [],
      "source": [
        "# Define a linear function with just one input, x\n",
        "def linear_function_1D(x,beta,omega):\n",
        "  # replace the code line below with formula for 1D linear equation\n",
        "\n",
        "  # YOUR CODE HERE\n",
        "  y = beta + omega * x\n",
        "\n",
        "  return y"
      ]
    },
    {
      "cell_type": "code",
      "execution_count": 4,
      "metadata": {
        "deletable": false,
        "editable": false,
        "nbgrader": {
          "cell_type": "code",
          "checksum": "9897972a5f4d780f8e6d611c46691ed5",
          "grade": true,
          "grade_id": "linear_func_1d_tests",
          "locked": true,
          "points": 2,
          "schema_version": 3,
          "solution": false,
          "task": false
        },
        "id": "4DxUhaYEt1Qy"
      },
      "outputs": [],
      "source": [
        "assert linear_function_1D(2.5, -1.0, 0.3) == -0.25"
      ]
    },
    {
      "cell_type": "code",
      "execution_count": 5,
      "metadata": {
        "id": "eimhJ8_jpmEp",
        "outputId": "d1de457b-e574-44da-9627-bb9985813b62",
        "colab": {
          "base_uri": "https://localhost:8080/",
          "height": 473
        }
      },
      "outputs": [
        {
          "output_type": "execute_result",
          "data": {
            "text/plain": [
              "<function matplotlib.pyplot.show(close=None, block=None)>"
            ]
          },
          "metadata": {},
          "execution_count": 5
        },
        {
          "output_type": "display_data",
          "data": {
            "text/plain": [
              "<Figure size 640x480 with 1 Axes>"
            ],
            "image/png": "[encoded data removed]"
          },
          "metadata": {}
        }
      ],
      "source": [
        "# Plot the 1D linear function\n",
        "\n",
        "# Define an array of x values from 0 to 10 with increments of 0.01\n",
        "# https://numpy.org/doc/stable/reference/generated/numpy.arange.html\n",
        "x = np.arange(0.0,10.0, 0.01)\n",
        "# Compute y using the function you filled in above\n",
        "beta = 0.0; omega = 1.0\n",
        "\n",
        "y = linear_function_1D(x,beta,omega)\n",
        "\n",
        "# Plot this function\n",
        "fig, ax = plt.subplots()\n",
        "ax.plot(x,y,'r-')\n",
        "ax.set_ylim([0,10]);ax.set_xlim([0,10])\n",
        "ax.set_xlabel('x'); ax.set_ylabel('y')\n",
        "plt.show"
      ]
    },
    {
      "cell_type": "markdown",
      "metadata": {
        "id": "239khXF-t1Qy"
      },
      "source": [
        "### Optional:\n",
        "\n",
        "Experiment with changing the values of beta and omega to understand what they do.  "
      ]
    },
    {
      "cell_type": "code",
      "execution_count": 6,
      "metadata": {
        "deletable": false,
        "editable": false,
        "nbgrader": {
          "cell_type": "code",
          "checksum": "ac9482b4ef883c60fe8ad7f1cb32ce04",
          "grade": true,
          "grade_id": "beta_omega",
          "locked": true,
          "points": 1,
          "schema_version": 3,
          "solution": false,
          "task": false
        },
        "id": "5RgnOylyt1Qy"
      },
      "outputs": [],
      "source": [
        "# Don't edit this cell.\n"
      ]
    },
    {
      "cell_type": "markdown",
      "metadata": {
        "deletable": false,
        "editable": false,
        "id": "AedfvD9dxShZ",
        "nbgrader": {
          "cell_type": "markdown",
          "checksum": "45cb1dbe704c9bf11090a862c1225c65",
          "grade": false,
          "grade_id": "cell-4cdb0ff3e1275d01",
          "locked": true,
          "schema_version": 3,
          "solution": false,
          "task": false
        }
      },
      "source": [
        "Now let's investigate a 2D linear function"
      ]
    },
    {
      "cell_type": "code",
      "execution_count": 7,
      "metadata": {
        "id": "57Gvkk-Ir_7b"
      },
      "outputs": [],
      "source": [
        "# Code to draw 2D function -- read it so you know what is going on, but you don't have to change it\n",
        "def draw_2D_function(x1_mesh, x2_mesh, y):\n",
        "    fig, ax = plt.subplots()\n",
        "    fig.set_size_inches(7,7)\n",
        "    pos = ax.contourf(x1_mesh, x2_mesh, y, levels=256 ,cmap = 'hot', vmin=-10,vmax=10.0)\n",
        "    fig.colorbar(pos, ax=ax)\n",
        "    ax.set_xlabel('x1');ax.set_ylabel('x2')\n",
        "    levels = np.arange(-10,10,1.0)\n",
        "    ax.contour(x1_mesh, x2_mesh, y, levels, cmap='winter')\n",
        "    plt.show()"
      ]
    },
    {
      "cell_type": "code",
      "execution_count": 8,
      "metadata": {
        "deletable": false,
        "id": "YxeNhrXMzkZR",
        "nbgrader": {
          "cell_type": "code",
          "checksum": "fca3b8b34fca9540fbc157d125aa8c11",
          "grade": false,
          "grade_id": "linear_func_2d",
          "locked": false,
          "schema_version": 3,
          "solution": true,
          "task": false
        }
      },
      "outputs": [],
      "source": [
        "# Define a linear function with two inputs, x1 and x2\n",
        "def linear_function_2D(x1,x2,beta,omega1,omega2):\n",
        "  # TODO -- write the formula for the 2D linear equation\n",
        "\n",
        "  # YOUR CODE HERE\n",
        "  y = beta + x1*omega1 + x2*omega2\n",
        "\n",
        "  return y"
      ]
    },
    {
      "cell_type": "code",
      "execution_count": 9,
      "metadata": {
        "deletable": false,
        "editable": false,
        "nbgrader": {
          "cell_type": "code",
          "checksum": "b5cddb8e6364967eba0033e2a09feaac",
          "grade": true,
          "grade_id": "linear_func_2d_tests",
          "locked": true,
          "points": 2,
          "schema_version": 3,
          "solution": false,
          "task": false
        },
        "id": "nDbCVDEQt1Qz"
      },
      "outputs": [],
      "source": [
        "assert linear_function_2D(1.0,2.0,0.0,1.0,1.0) == 3.0"
      ]
    },
    {
      "cell_type": "code",
      "execution_count": 10,
      "metadata": {
        "id": "rn_UBRDBysmR",
        "outputId": "91c9f99a-1346-4912-8619-6ee895c62946",
        "colab": {
          "base_uri": "https://localhost:8080/",
          "height": 624
        }
      },
      "outputs": [
        {
          "output_type": "display_data",
          "data": {
            "text/plain": [
              "<Figure size 700x700 with 2 Axes>"
            ],
            "image/png": "[encoded data removed]"
          },
          "metadata": {}
        }
      ],
      "source": [
        "# Plot the 2D function\n",
        "\n",
        "# Make 2D array of x and y points\n",
        "x1 = np.arange(0.0, 10.0, 0.1)\n",
        "x2 = np.arange(0.0, 10.0, 0.1)\n",
        "x1,x2 = np.meshgrid(x1,x2)  # https://www.geeksforgeeks.org/numpy-meshgrid-function/\n",
        "\n",
        "# Compute the 2D function for given values of omega1, omega2\n",
        "beta = -5; omega1 = 0.5; omega2 = -0.5\n",
        "y  = linear_function_2D(x1,x2,beta, omega1, omega2)\n",
        "\n",
        "# Draw the function.\n",
        "# Color represents y value (brighter = higher value)\n",
        "# Black = -10 or less, White = +10 or more\n",
        "# 0 = mid orange\n",
        "# Lines are contours where value is equal\n",
        "draw_2D_function(x1,x2,y)"
      ]
    },
    {
      "cell_type": "markdown",
      "metadata": {
        "deletable": false,
        "editable": false,
        "nbgrader": {
          "cell_type": "markdown",
          "checksum": "6183850e862f46b15907ae91db43c89c",
          "grade": false,
          "grade_id": "cell-eb54bd0646166409",
          "locked": true,
          "schema_version": 3,
          "solution": false,
          "task": false
        },
        "id": "JZgUXu3Wt1Qz"
      },
      "source": [
        "### Question: Predict what this plot will look like if you set omega_1 to zero\n",
        "\n",
        "Change the code and see if you are right."
      ]
    },
    {
      "cell_type": "markdown",
      "metadata": {
        "deletable": false,
        "nbgrader": {
          "cell_type": "markdown",
          "checksum": "38d1e48804afd2fcfaf475a3529e05b9",
          "grade": true,
          "grade_id": "cell-9b2b4ef013b0fb4a",
          "locked": false,
          "points": 1,
          "schema_version": 3,
          "solution": true,
          "task": false
        },
        "id": "KMdZ7ZeUt1Q0"
      },
      "source": [
        "YOUR ANSWER HERE\n",
        "\n",
        "omega_1 is the weight of feature 1. If you set weight to zero, line would be flat."
      ]
    },
    {
      "cell_type": "markdown",
      "metadata": {
        "deletable": false,
        "editable": false,
        "nbgrader": {
          "cell_type": "markdown",
          "checksum": "72fc61cdc2af2a16f6a713641fdca2da",
          "grade": false,
          "grade_id": "cell-e85f194a8f82b272",
          "locked": true,
          "schema_version": 3,
          "solution": false,
          "task": false
        },
        "id": "qnmfsH8Yt1Q0"
      },
      "source": [
        "### Question: Predict what this plot will look like if you set omega_2 to zero\n",
        "\n",
        "Change the code and see if you are right."
      ]
    },
    {
      "cell_type": "markdown",
      "metadata": {
        "deletable": false,
        "nbgrader": {
          "cell_type": "markdown",
          "checksum": "e411b7165579c57a063f3cb454a0c892",
          "grade": true,
          "grade_id": "cell-d6d96ebbaed5be01",
          "locked": false,
          "points": 1,
          "schema_version": 3,
          "solution": true,
          "task": false
        },
        "id": "RNJQOkjJt1Q0"
      },
      "source": [
        "YOUR ANSWER HERE\n",
        "\n",
        "omega_2 is the weight of feature 2. Similar, line would be vertical."
      ]
    },
    {
      "cell_type": "markdown",
      "metadata": {
        "deletable": false,
        "editable": false,
        "nbgrader": {
          "cell_type": "markdown",
          "checksum": "9626b866ddca6a5c9daeb944f9377f80",
          "grade": false,
          "grade_id": "cell-fdebdfef675140a9",
          "locked": true,
          "schema_version": 3,
          "solution": false,
          "task": false
        },
        "id": "II9z5gx9t1Q0"
      },
      "source": [
        "### Question: Predict what this plot will look like if you set beta to -5\n",
        "\n",
        "Change the code and see if you are correct"
      ]
    },
    {
      "cell_type": "markdown",
      "metadata": {
        "deletable": false,
        "nbgrader": {
          "cell_type": "markdown",
          "checksum": "6c3ac7bdebb3fe71036507bbd2137bc1",
          "grade": true,
          "grade_id": "cell-b5a74c0ca60a405d",
          "locked": false,
          "points": 1,
          "schema_version": 3,
          "solution": true,
          "task": false
        },
        "id": "YSuQGZAUt1Q0"
      },
      "source": [
        "YOUR ANSWER HERE\n",
        "\n",
        "beta is the y-intercept, if you set beta to -5, the equation starts at a lower y-intercept or deeper."
      ]
    },
    {
      "cell_type": "markdown",
      "metadata": {
        "deletable": false,
        "editable": false,
        "id": "i8tLwpls476R",
        "nbgrader": {
          "cell_type": "markdown",
          "checksum": "550add8d990d59e8f626408395c64997",
          "grade": false,
          "grade_id": "cell-7e3f3801149f49f7",
          "locked": true,
          "schema_version": 3,
          "solution": false,
          "task": false
        }
      },
      "source": [
        "Often we will want to compute many linear functions at the same time.  For example, we might have\n",
        "three inputs, $x_1$, $x_2$, and $x_3$ and want to compute two linear functions giving $y_1$ and $y_2$.\n",
        "Of course, we could do this by just running each equation separately,\n",
        "\n",
        "$$\n",
        "\\begin{align}\n",
        "y_1 &=& \\beta_1 + \\omega_{11} x_1 + \\omega_{12} x_2 + \\omega_{13} x_3\\\\\n",
        "y_2 &=& \\beta_2 + \\omega_{21} x_1 + \\omega_{22} x_2 + \\omega_{23} x_3.\n",
        "\\end{align}\n",
        "$$\n",
        "\n",
        "However, we can write it more compactly with vectors and matrices:\n",
        "\n",
        "$$\n",
        "\\begin{bmatrix} y_1\\\\ y_2 \\end{bmatrix} = \\begin{bmatrix}\\beta_{1}\\\\\\beta_{2}\\end{bmatrix}+ \\begin{bmatrix}\\omega_{11}&\\omega_{12}&\\omega_{13}\\\\\\omega_{21}&\\omega_{22}&\\omega_{23}\\end{bmatrix}\\begin{bmatrix}x_{1}\\\\x_{2}\\\\x_{3}\\end{bmatrix},\n",
        "$$\n",
        "\n",
        "or\n",
        "\n",
        "$$\n",
        "\\mathbf{y} = \\boldsymbol\\beta +\\boldsymbol\\Omega\\mathbf{x}.\n",
        "$$\n",
        "\n",
        "for short.  Here, lowercase bold symbols are used for vectors.  Upper case bold symbols are used for matrices.\n",
        "\n"
      ]
    },
    {
      "cell_type": "code",
      "execution_count": 11,
      "metadata": {
        "deletable": false,
        "id": "MjHXMavh9IUz",
        "nbgrader": {
          "cell_type": "code",
          "checksum": "1003c943cf9b0aee9349f9eee397bd34",
          "grade": false,
          "grade_id": "cell-b4cd1ed88f18ba63",
          "locked": false,
          "schema_version": 3,
          "solution": true,
          "task": false
        }
      },
      "outputs": [],
      "source": [
        "# Define a linear function with three inputs, x1, x2, and x_3\n",
        "def linear_function_3D(x1,x2,x3,beta,omega1,omega2,omega3):\n",
        "  # TODO -- write the formula for a single 3D linear equation\n",
        "\n",
        "  # YOUR CODE HERE\n",
        "  y = beta + x1*omega1 + x2*omega2 + x3*omega3\n",
        "\n",
        "  return y"
      ]
    },
    {
      "cell_type": "code",
      "execution_count": 12,
      "metadata": {
        "deletable": false,
        "editable": false,
        "nbgrader": {
          "cell_type": "code",
          "checksum": "77f3b785735c54cce993f04dc90a049b",
          "grade": true,
          "grade_id": "cell-44cf5af9dd4ec56c",
          "locked": true,
          "points": 2,
          "schema_version": 3,
          "solution": false,
          "task": false
        },
        "id": "a04zDAcUt1Q0"
      },
      "outputs": [],
      "source": [
        "assert linear_function_3D(1.0,2.0,3.0,0.0,1.0,1.0,1.0) == 6.0"
      ]
    },
    {
      "cell_type": "markdown",
      "metadata": {
        "deletable": false,
        "editable": false,
        "id": "fGzVJQ6N-mHJ",
        "nbgrader": {
          "cell_type": "markdown",
          "checksum": "4fb51e11adb7f5cd52dc0fa544466cfa",
          "grade": false,
          "grade_id": "cell-b18426fb54442d41",
          "locked": true,
          "schema_version": 3,
          "solution": false,
          "task": false
        }
      },
      "source": [
        "Let's compute two linear equations, using both the individual equations and the vector / matrix form and check they give the same result"
      ]
    },
    {
      "cell_type": "code",
      "execution_count": 13,
      "metadata": {
        "id": "Swd_bFIE9p2n",
        "outputId": "72292e4e-e2eb-4dc7-b097-9749bbd66ce8",
        "colab": {
          "base_uri": "https://localhost:8080/"
        }
      },
      "outputs": [
        {
          "output_type": "stream",
          "name": "stdout",
          "text": [
            "Individual equations\n",
            "y1 = -4.500\n",
            "y2 = 2.900\n",
            "Matrix/vector form\n",
            "y1= -4.500\n",
            "y2 = 2.900\n"
          ]
        }
      ],
      "source": [
        "# Define the parameters\n",
        "beta1 = 0.5; beta2 = 0.2\n",
        "omega11 =  -1.0 ; omega12 = 0.4; omega13 = -0.3\n",
        "omega21 =  0.1  ; omega22 = 0.1; omega23 = 1.2\n",
        "\n",
        "# Define the inputs\n",
        "x1 = 4 ; x2 =-1; x3 = 2\n",
        "\n",
        "# Compute using the individual equations\n",
        "y1 = linear_function_3D(x1,x2,x3,beta1,omega11,omega12,omega13)\n",
        "y2 = linear_function_3D(x1,x2,x3,beta2,omega21,omega22,omega23)\n",
        "print(\"Individual equations\")\n",
        "print('y1 = %3.3f\\ny2 = %3.3f'%((y1,y2)))\n",
        "\n",
        "# Define vectors and matrices\n",
        "beta_vec = np.array([[beta1],[beta2]])\n",
        "omega_mat = np.array([[omega11,omega12,omega13],[omega21,omega22,omega23]])\n",
        "x_vec = np.array([[x1], [x2], [x3]])\n",
        "\n",
        "# Compute with vector/matrix form\n",
        "y_vec = beta_vec+np.matmul(omega_mat, x_vec)\n",
        "print(\"Matrix/vector form\")\n",
        "print('y1= %3.3f\\ny2 = %3.3f'%((y_vec[0][0],y_vec[1][0])))\n"
      ]
    },
    {
      "cell_type": "markdown",
      "metadata": {
        "deletable": false,
        "editable": false,
        "id": "3LGRoTMLU8ZU",
        "nbgrader": {
          "cell_type": "markdown",
          "checksum": "762f29732e0cfffe7904c09a86d7ee18",
          "grade": false,
          "grade_id": "cell-841ef47bb5438556",
          "locked": true,
          "schema_version": 3,
          "solution": false,
          "task": false
        }
      },
      "source": [
        "# Questions\n",
        "\n",
        "1.  A single linear equation with three inputs (i.e. **linear_function_3D()**) associates a value y with each point in a 3D space ($x_1$,$x_2$,$x_3$).  Is it possible to visualize this?   What value is at position (0,0,0)?"
      ]
    },
    {
      "cell_type": "markdown",
      "metadata": {
        "deletable": false,
        "nbgrader": {
          "cell_type": "markdown",
          "checksum": "0921903e5fdb73057ab5f3eae4b91d40",
          "grade": true,
          "grade_id": "cell-0e2b005301d2f37e",
          "locked": false,
          "points": 4,
          "schema_version": 3,
          "solution": true,
          "task": false
        },
        "id": "VEkW_KHbt1Q1"
      },
      "source": [
        "YOUR ANSWER HERE\n",
        "\n",
        "In 3D, this linear equation becomes a plane. if you set all x1,x2,x3 to be zero, y = beta."
      ]
    },
    {
      "cell_type": "markdown",
      "metadata": {
        "deletable": false,
        "editable": false,
        "nbgrader": {
          "cell_type": "markdown",
          "checksum": "4d799cc3cb35859776188211d0c1a5f3",
          "grade": false,
          "grade_id": "cell-09a87dfcb24314ad",
          "locked": true,
          "schema_version": 3,
          "solution": false,
          "task": false
        },
        "id": "6X110KRat1Q1"
      },
      "source": [
        "2.  Write code to compute three linear equations with two inputs ($x_1$, $x_2$) using both the individual equations and the matrix form (you can make up any values for the inputs $\\beta_{i}$ and the slopes $\\omega_{ij}$."
      ]
    },
    {
      "cell_type": "markdown",
      "metadata": {
        "deletable": false,
        "nbgrader": {
          "cell_type": "markdown",
          "checksum": "777fa23320072752c7388352a0485637",
          "grade": true,
          "grade_id": "cell-4c4e2dde94244d9e",
          "locked": false,
          "points": 1,
          "schema_version": 3,
          "solution": true,
          "task": false
        },
        "id": "TDgakTozt1Q1"
      },
      "source": [
        "YOUR ANSWER HERE"
      ]
    },
    {
      "cell_type": "code",
      "source": [
        "\n",
        "omega = np.array([[2, -3],  # Coefficients for the first equation\n",
        "                  [1,  4],  # Coefficients for the second equation\n",
        "                  [-1, 2]]) # Coefficients for the third equation\n",
        "\n",
        "beta = np.array([1, -2, 3]) # Intercept for each equation\n",
        "\n",
        "# Define the inputs (x1, x2)\n",
        "x = np.array([x1, x2]) # Example values for x1 and x2\n",
        "\n",
        "# Compute using individual equations\n",
        "y1 = omega[0,0] * x[0] + omega[0,1] * x[1] + beta[0]\n",
        "y2 = omega[1,0] * x[0] + omega[1,1] * x[1] + beta[1]\n",
        "y3 = omega[2,0] * x[0] + omega[2,1] * x[1] + beta[2]\n",
        "\n",
        "# Compute using matrix form\n",
        "Y_matrix = np.dot(omega, x) + beta\n",
        "\n",
        "(y1, y2, y3), Y_matrix\n"
      ],
      "metadata": {
        "id": "Je2MsC4jxUNJ",
        "outputId": "6817455a-5c78-4d87-d528-8b3413e7e848",
        "colab": {
          "base_uri": "https://localhost:8080/"
        }
      },
      "execution_count": 14,
      "outputs": [
        {
          "output_type": "execute_result",
          "data": {
            "text/plain": [
              "((12, -2, -3), array([12, -2, -3]))"
            ]
          },
          "metadata": {},
          "execution_count": 14
        }
      ]
    },
    {
      "cell_type": "markdown",
      "metadata": {
        "deletable": false,
        "editable": false,
        "id": "7Y5zdKtKZAB2",
        "nbgrader": {
          "cell_type": "markdown",
          "checksum": "61206a6581a7d36e6ca425bcf8ab1777",
          "grade": false,
          "grade_id": "cell-ef18d69deb1c33ac",
          "locked": true,
          "schema_version": 3,
          "solution": false,
          "task": false
        }
      },
      "source": [
        "# Special functions\n",
        "\n",
        "Throughout the book and class, we'll be using some special functions (see Appendix B.1.3).  The most important of these are the logarithm and exponential functions.  Let's investigate their properties.\n",
        "\n",
        "We'll start with the exponential function $y=\\exp[x]=e^x$ which maps the real\n",
        "line $[-\\infty,+\\infty]$ to non-negative numbers $[0,+\\infty]$."
      ]
    },
    {
      "cell_type": "code",
      "execution_count": 15,
      "metadata": {
        "id": "c_GkjiY9IWCu",
        "outputId": "0e6b9bcc-7691-4fa2-ed0a-f9cb8b79d5b4",
        "colab": {
          "base_uri": "https://localhost:8080/",
          "height": 473
        }
      },
      "outputs": [
        {
          "output_type": "execute_result",
          "data": {
            "text/plain": [
              "<function matplotlib.pyplot.show(close=None, block=None)>"
            ]
          },
          "metadata": {},
          "execution_count": 15
        },
        {
          "output_type": "display_data",
          "data": {
            "text/plain": [
              "<Figure size 640x480 with 1 Axes>"
            ],
            "image/png": "[encoded data removed]"
          },
          "metadata": {}
        }
      ],
      "source": [
        "# Draw the exponential function\n",
        "\n",
        "# Define an array of x values from -5 to 5 with increments of 0.01\n",
        "x = np.arange(-5.0,5.0, 0.01)\n",
        "y = np.exp(x) ;\n",
        "\n",
        "# Plot this function\n",
        "fig, ax = plt.subplots()\n",
        "ax.plot(x,y,'r-')\n",
        "ax.set_ylim([0,100]);ax.set_xlim([-5,5])\n",
        "ax.set_xlabel('x'); ax.set_ylabel('exp[x]')\n",
        "plt.show"
      ]
    },
    {
      "cell_type": "markdown",
      "metadata": {
        "deletable": false,
        "editable": false,
        "id": "XyrT8257IWCu",
        "nbgrader": {
          "cell_type": "markdown",
          "checksum": "b9a6fc3f7671cd544b0c8f26a7fe8177",
          "grade": false,
          "grade_id": "cell-00cacfecdccb2eb1",
          "locked": true,
          "schema_version": 3,
          "solution": false,
          "task": false
        }
      },
      "source": [
        "# Questions"
      ]
    },
    {
      "cell_type": "markdown",
      "metadata": {
        "deletable": false,
        "editable": false,
        "nbgrader": {
          "cell_type": "markdown",
          "checksum": "17a12739b161fb29abc7eb1e9ad4c218",
          "grade": false,
          "grade_id": "cell-aca6aba24ae704e4",
          "locked": true,
          "schema_version": 3,
          "solution": false,
          "task": false
        },
        "id": "kc0B6AdKt1Q2"
      },
      "source": [
        "1. What is $\\exp[0]$?"
      ]
    },
    {
      "cell_type": "markdown",
      "metadata": {
        "deletable": false,
        "nbgrader": {
          "cell_type": "markdown",
          "checksum": "e40ff8ac80cc3591d10e7aa651340d5f",
          "grade": true,
          "grade_id": "cell-a2f5bc5c9b439e6e",
          "locked": false,
          "points": 1,
          "schema_version": 3,
          "solution": true,
          "task": false
        },
        "id": "h2d-AAB1t1Q2"
      },
      "source": [
        "YOUR ANSWER HERE\n",
        "\n",
        "1"
      ]
    },
    {
      "cell_type": "markdown",
      "metadata": {
        "deletable": false,
        "editable": false,
        "nbgrader": {
          "cell_type": "markdown",
          "checksum": "17e6c15ca213730cf3192c3909da6428",
          "grade": false,
          "grade_id": "cell-e7a8b63d2c4caeb5",
          "locked": true,
          "schema_version": 3,
          "solution": false,
          "task": false
        },
        "id": "UNLfyZPlt1Q6"
      },
      "source": [
        "2. What is $\\exp[1]$?\n",
        "\n"
      ]
    },
    {
      "cell_type": "markdown",
      "metadata": {
        "deletable": false,
        "nbgrader": {
          "cell_type": "markdown",
          "checksum": "582c9e4672bcbd21feb5f649d3b342c2",
          "grade": true,
          "grade_id": "cell-ce8a1c245304a02c",
          "locked": false,
          "points": 1,
          "schema_version": 3,
          "solution": true,
          "task": false
        },
        "id": "RSg8DVqWt1Q6"
      },
      "source": [
        "YOUR ANSWER HERE\n",
        "\n",
        "e"
      ]
    },
    {
      "cell_type": "markdown",
      "metadata": {
        "deletable": false,
        "editable": false,
        "nbgrader": {
          "cell_type": "markdown",
          "checksum": "9de8f32ebcf3ca60713bd6760e6ce0fc",
          "grade": false,
          "grade_id": "cell-856d208a24936c0f",
          "locked": true,
          "schema_version": 3,
          "solution": false,
          "task": false
        },
        "id": "3olEFTTet1Q6"
      },
      "source": [
        "3. What is $\\exp[-\\infty]$?"
      ]
    },
    {
      "cell_type": "markdown",
      "metadata": {
        "deletable": false,
        "nbgrader": {
          "cell_type": "markdown",
          "checksum": "753d63114bd285c680220fd9e0396de1",
          "grade": true,
          "grade_id": "cell-8128f779d2fecc83",
          "locked": false,
          "points": 1,
          "schema_version": 3,
          "solution": true,
          "task": false
        },
        "id": "Ugec1Gict1Q6"
      },
      "source": [
        "YOUR ANSWER HERE\n",
        "\n",
        "approach 0"
      ]
    },
    {
      "cell_type": "markdown",
      "metadata": {
        "deletable": false,
        "editable": false,
        "nbgrader": {
          "cell_type": "markdown",
          "checksum": "e3c14af655e057b3b6bf9c030453d49e",
          "grade": false,
          "grade_id": "cell-42ed7cfaf0e1d4ac",
          "locked": true,
          "schema_version": 3,
          "solution": false,
          "task": false
        },
        "id": "wX_nDAdMt1Q6"
      },
      "source": [
        "4. What is $\\exp[+\\infty]$?"
      ]
    },
    {
      "cell_type": "markdown",
      "metadata": {
        "deletable": false,
        "nbgrader": {
          "cell_type": "markdown",
          "checksum": "1031afd3b5568450b357fc41e724c6b1",
          "grade": true,
          "grade_id": "cell-98b05cf3da43c8e2",
          "locked": false,
          "points": 1,
          "schema_version": 3,
          "solution": true,
          "task": false
        },
        "id": "eL7FHOy9t1Q7"
      },
      "source": [
        "YOUR ANSWER HERE\n",
        "\n",
        "approach infinity."
      ]
    },
    {
      "cell_type": "markdown",
      "metadata": {
        "deletable": false,
        "editable": false,
        "nbgrader": {
          "cell_type": "markdown",
          "checksum": "7386043c249cafcbe9c8a8dcbeb136f7",
          "grade": false,
          "grade_id": "cell-7f3a6437479294aa",
          "locked": true,
          "schema_version": 3,
          "solution": false,
          "task": false
        },
        "id": "JKwpetSpt1Q7"
      },
      "source": [
        "5. A function is convex if we can draw a straight line between any two points on the function, and this line always lies above the function. Similarly, a function is concave if a straight line between any two points always lies below the function.  Is the exponential function convex or concave or neither?"
      ]
    },
    {
      "cell_type": "markdown",
      "metadata": {
        "deletable": false,
        "nbgrader": {
          "cell_type": "markdown",
          "checksum": "d86566a7b0bb0d03ef57c7ec3795764d",
          "grade": true,
          "grade_id": "cell-0a5cd86079f44ef5",
          "locked": false,
          "points": 1,
          "schema_version": 3,
          "solution": true,
          "task": false
        },
        "id": "HfvC137ot1Q7"
      },
      "source": [
        "YOUR ANSWER HERE\n",
        "\n",
        "expoential function is convex. The classical way is to compute its second derivative and check concavity. However, you can draw a straight line and is always lie above the function."
      ]
    },
    {
      "cell_type": "markdown",
      "metadata": {
        "deletable": false,
        "editable": false,
        "id": "R6A4e5IxIWCu",
        "nbgrader": {
          "cell_type": "markdown",
          "checksum": "a49fd1092ad975d1e928fc896b8b59cd",
          "grade": false,
          "grade_id": "cell-a4f6883c27e24b27",
          "locked": true,
          "schema_version": 3,
          "solution": false,
          "task": false
        }
      },
      "source": [
        "Now let's consider the logarithm function $y=\\log[x]$. Throughout the book we always use natural (base $e$) logarithms. The log function maps non-negative numbers $[0,\\infty]$ to real numbers $[-\\infty,\\infty]$.  It is the inverse of the exponential function.  So when we compute $\\log[x]$ we are really asking \"What is the number $y$ so that $e^y=x$?\""
      ]
    },
    {
      "cell_type": "code",
      "execution_count": 16,
      "metadata": {
        "id": "fOR7v2iXIWCu",
        "outputId": "a63b5287-59ec-4633-e7df-e7e7bd37ecee",
        "colab": {
          "base_uri": "https://localhost:8080/",
          "height": 467
        }
      },
      "outputs": [
        {
          "output_type": "execute_result",
          "data": {
            "text/plain": [
              "<function matplotlib.pyplot.show(close=None, block=None)>"
            ]
          },
          "metadata": {},
          "execution_count": 16
        },
        {
          "output_type": "display_data",
          "data": {
            "text/plain": [
              "<Figure size 640x480 with 1 Axes>"
            ],
            "image/png": "[encoded data removed]"
          },
          "metadata": {}
        }
      ],
      "source": [
        "# Draw the logarithm function\n",
        "\n",
        "# Define an array of x values from -5 to 5 with increments of 0.01\n",
        "x = np.arange(0.01,5.0, 0.01)\n",
        "y = np.log(x) ;\n",
        "\n",
        "# Plot this function\n",
        "fig, ax = plt.subplots()\n",
        "ax.plot(x,y,'r-')\n",
        "ax.set_ylim([-5,5]);ax.set_xlim([0,5])\n",
        "ax.set_xlabel('x'); ax.set_ylabel('$\\log[x]$')\n",
        "plt.show"
      ]
    },
    {
      "cell_type": "code",
      "source": [
        "np.log(-1)"
      ],
      "metadata": {
        "id": "WXifwwDj51Mt",
        "outputId": "21a800dc-90d8-4c17-9915-7053a5f684d4",
        "colab": {
          "base_uri": "https://localhost:8080/"
        }
      },
      "execution_count": 17,
      "outputs": [
        {
          "output_type": "stream",
          "name": "stderr",
          "text": [
            "<ipython-input-17-0cd3490738d5>:1: RuntimeWarning: invalid value encountered in log\n",
            "  np.log(-1)\n"
          ]
        },
        {
          "output_type": "execute_result",
          "data": {
            "text/plain": [
              "nan"
            ]
          },
          "metadata": {},
          "execution_count": 17
        }
      ]
    },
    {
      "cell_type": "markdown",
      "metadata": {
        "deletable": false,
        "editable": false,
        "id": "yYWrL5AXIWCv",
        "nbgrader": {
          "cell_type": "markdown",
          "checksum": "e435e8a81e300a5ce14b55b756cad470",
          "grade": false,
          "grade_id": "cell-f3faca35adb8be0b",
          "locked": true,
          "schema_version": 3,
          "solution": false,
          "task": false
        }
      },
      "source": [
        "# Questions"
      ]
    },
    {
      "cell_type": "markdown",
      "metadata": {
        "deletable": false,
        "editable": false,
        "nbgrader": {
          "cell_type": "markdown",
          "checksum": "e9236bf24f154d187cba09380fc5787d",
          "grade": false,
          "grade_id": "cell-7bba02349ede01cd",
          "locked": true,
          "schema_version": 3,
          "solution": false,
          "task": false
        },
        "id": "PLOnZogft1Q7"
      },
      "source": [
        "1. What is $\\log[0]$?  "
      ]
    },
    {
      "cell_type": "markdown",
      "metadata": {
        "deletable": false,
        "nbgrader": {
          "cell_type": "markdown",
          "checksum": "883f23ac877d7fa643f035f195b43766",
          "grade": true,
          "grade_id": "cell-6d16991c50c8f707",
          "locked": false,
          "points": 1,
          "schema_version": 3,
          "solution": true,
          "task": false
        },
        "id": "qVo6QePnt1Q7"
      },
      "source": [
        "YOUR ANSWER HERE\n",
        "\n",
        "approaches negative infinity"
      ]
    },
    {
      "cell_type": "markdown",
      "metadata": {
        "deletable": false,
        "editable": false,
        "nbgrader": {
          "cell_type": "markdown",
          "checksum": "d3c5ce1d58f2b25364d61465a61d083b",
          "grade": false,
          "grade_id": "cell-ce451c2b3244ebc4",
          "locked": true,
          "schema_version": 3,
          "solution": false,
          "task": false
        },
        "id": "FTAjxzFEt1Q7"
      },
      "source": [
        "2. What is $\\log[1]$?"
      ]
    },
    {
      "cell_type": "markdown",
      "metadata": {
        "deletable": false,
        "nbgrader": {
          "cell_type": "markdown",
          "checksum": "89c31f038c2dd7db47c2ab5144f761b6",
          "grade": true,
          "grade_id": "cell-168daf8582c010e4",
          "locked": false,
          "points": 1,
          "schema_version": 3,
          "solution": true,
          "task": false
        },
        "id": "6xDLKywQt1Q8"
      },
      "source": [
        "YOUR ANSWER HERE\n",
        "\n",
        "0"
      ]
    },
    {
      "cell_type": "markdown",
      "metadata": {
        "deletable": false,
        "editable": false,
        "nbgrader": {
          "cell_type": "markdown",
          "checksum": "f099a8e4e47969c33562f48c175102a6",
          "grade": false,
          "grade_id": "cell-32916cb605608c75",
          "locked": true,
          "schema_version": 3,
          "solution": false,
          "task": false
        },
        "id": "nyf55BBUt1Q8"
      },
      "source": [
        "3. What is $\\log[e]$?"
      ]
    },
    {
      "cell_type": "markdown",
      "metadata": {
        "deletable": false,
        "nbgrader": {
          "cell_type": "markdown",
          "checksum": "118d329069d7bb5a7a93a99d689b6a7e",
          "grade": true,
          "grade_id": "cell-bba5c4164f473d21",
          "locked": false,
          "points": 1,
          "schema_version": 3,
          "solution": true,
          "task": false
        },
        "id": "jBuUUjNtt1Q8"
      },
      "source": [
        "YOUR ANSWER HERE\n",
        "\n",
        "1"
      ]
    },
    {
      "cell_type": "markdown",
      "metadata": {
        "deletable": false,
        "editable": false,
        "nbgrader": {
          "cell_type": "markdown",
          "checksum": "4cf5beca53d7b76d285c757da8a62e7d",
          "grade": false,
          "grade_id": "cell-12ed387842eb5ec6",
          "locked": true,
          "schema_version": 3,
          "solution": false,
          "task": false
        },
        "id": "HFzhZLfFt1Q8"
      },
      "source": [
        "4. What is $\\log[\\exp[3]]$?"
      ]
    },
    {
      "cell_type": "markdown",
      "metadata": {
        "deletable": false,
        "nbgrader": {
          "cell_type": "markdown",
          "checksum": "f414d65b46b6b72293b727810b9edb63",
          "grade": true,
          "grade_id": "cell-d8f7e4377db60f29",
          "locked": false,
          "points": 1,
          "schema_version": 3,
          "solution": true,
          "task": false
        },
        "id": "QzLl2fIFt1Q8"
      },
      "source": [
        "YOUR ANSWER HERE\n",
        "\n",
        "3"
      ]
    },
    {
      "cell_type": "markdown",
      "metadata": {
        "deletable": false,
        "editable": false,
        "nbgrader": {
          "cell_type": "markdown",
          "checksum": "7bf43c452695684ccddfa97564a65522",
          "grade": false,
          "grade_id": "cell-86937fd5a6fa5a53",
          "locked": true,
          "schema_version": 3,
          "solution": false,
          "task": false
        },
        "id": "2UIgX4P6t1Q8"
      },
      "source": [
        "5. What is $\\exp[\\log[4]]$?"
      ]
    },
    {
      "cell_type": "markdown",
      "metadata": {
        "deletable": false,
        "nbgrader": {
          "cell_type": "markdown",
          "checksum": "8b1dcb3ea60a7658a7b37181dd20a12b",
          "grade": true,
          "grade_id": "cell-20eb8b5e640e99d8",
          "locked": false,
          "points": 1,
          "schema_version": 3,
          "solution": true,
          "task": false
        },
        "id": "-UBpZP9Lt1Q8"
      },
      "source": [
        "YOUR ANSWER HERE\n",
        "\n",
        "4"
      ]
    },
    {
      "cell_type": "markdown",
      "metadata": {
        "deletable": false,
        "editable": false,
        "nbgrader": {
          "cell_type": "markdown",
          "checksum": "4aa9703b96abbc1a65f56093b837fe5e",
          "grade": false,
          "grade_id": "cell-e79b7ce38687dddc",
          "locked": true,
          "schema_version": 3,
          "solution": false,
          "task": false
        },
        "id": "8fkJo0ngt1Q8"
      },
      "source": [
        "6. What is $\\log[-1]$?"
      ]
    },
    {
      "cell_type": "markdown",
      "metadata": {
        "deletable": false,
        "nbgrader": {
          "cell_type": "markdown",
          "checksum": "88ca5e3cfae1383e50c731e4e8a2ecc3",
          "grade": true,
          "grade_id": "cell-b1c4d7e1373f3a17",
          "locked": false,
          "points": 1,
          "schema_version": 3,
          "solution": true,
          "task": false
        },
        "id": "ecmTF0r_t1Q9"
      },
      "source": [
        "YOUR ANSWER HERE\n",
        "\n",
        "undefined."
      ]
    },
    {
      "cell_type": "markdown",
      "metadata": {
        "deletable": false,
        "editable": false,
        "nbgrader": {
          "cell_type": "markdown",
          "checksum": "0c0b37072a11619ce35669a1cbc8466a",
          "grade": false,
          "grade_id": "cell-f450e26257735e5a",
          "locked": true,
          "schema_version": 3,
          "solution": false,
          "task": false
        },
        "id": "pPplJKhht1Q9"
      },
      "source": [
        "[link text](https://)7. Is the logarithm function concave or convex?"
      ]
    },
    {
      "cell_type": "markdown",
      "metadata": {
        "deletable": false,
        "nbgrader": {
          "cell_type": "markdown",
          "checksum": "30637138ca717d841c2cd4fba43b1d60",
          "grade": true,
          "grade_id": "cell-dd9689a00c350ff7",
          "locked": false,
          "points": 1,
          "schema_version": 3,
          "solution": true,
          "task": false
        },
        "id": "FGb_aZI1t1Q9"
      },
      "source": [
        "YOUR ANSWER HERE\n",
        "\n",
        "concave. Similarly, draw a straight line, this line is below the function."
      ]
    }
  ],
  "metadata": {
    "colab": {
      "provenance": []
    },
    "kernelspec": {
      "display_name": "Python 3 (ipykernel)",
      "language": "python",
      "name": "python3"
    },
    "language_info": {
      "codemirror_mode": {
        "name": "ipython",
        "version": 3
      },
      "file_extension": ".py",
      "mimetype": "text/x-python",
      "name": "python",
      "nbconvert_exporter": "python",
      "pygments_lexer": "ipython3",
      "version": "3.11.5"
    }
  },
  "nbformat": 4,
  "nbformat_minor": 0
}